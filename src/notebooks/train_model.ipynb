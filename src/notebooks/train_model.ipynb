{
 "cells": [
  {
   "cell_type": "code",
   "execution_count": 65,
   "id": "11777400",
   "metadata": {},
   "outputs": [],
   "source": [
    "from sklearn.feature_extraction.text import TfidfVectorizer\n",
    "from sklearn import model_selection, naive_bayes, svm\n",
    "from sklearn.metrics import accuracy_score, f1_score, precision_score, recall_score, confusion_matrix\n",
    "from nltk.tokenize import word_tokenize\n",
    "import pandas as pd\n",
    "import numpy as np"
   ]
  },
  {
   "cell_type": "code",
   "execution_count": 76,
   "id": "eaa92c09",
   "metadata": {},
   "outputs": [
    {
     "data": {
      "text/html": [
       "<div>\n",
       "<style scoped>\n",
       "    .dataframe tbody tr th:only-of-type {\n",
       "        vertical-align: middle;\n",
       "    }\n",
       "\n",
       "    .dataframe tbody tr th {\n",
       "        vertical-align: top;\n",
       "    }\n",
       "\n",
       "    .dataframe thead th {\n",
       "        text-align: right;\n",
       "    }\n",
       "</style>\n",
       "<table border=\"1\" class=\"dataframe\">\n",
       "  <thead>\n",
       "    <tr style=\"text-align: right;\">\n",
       "      <th></th>\n",
       "      <th>Unnamed: 0</th>\n",
       "      <th>File</th>\n",
       "      <th>Text</th>\n",
       "      <th>Category</th>\n",
       "      <th>language</th>\n",
       "    </tr>\n",
       "  </thead>\n",
       "  <tbody>\n",
       "    <tr>\n",
       "      <th>0</th>\n",
       "      <td>0</td>\n",
       "      <td>bb995ead-f65c-43e8-9d7f-771546d21651.tiff</td>\n",
       "      <td>['parliament', 'wsrdd', 'scrambeer', 'engeyi',...</td>\n",
       "      <td>advertisement</td>\n",
       "      <td>en</td>\n",
       "    </tr>\n",
       "    <tr>\n",
       "      <th>1</th>\n",
       "      <td>1</td>\n",
       "      <td>2a476c78-ce1c-4535-831c-626635b69fef.tiff</td>\n",
       "      <td>['gilvvmather', 'insertion', 'order', 'i6ken7n...</td>\n",
       "      <td>advertisement</td>\n",
       "      <td>en</td>\n",
       "    </tr>\n",
       "    <tr>\n",
       "      <th>2</th>\n",
       "      <td>2</td>\n",
       "      <td>7bbd6936-4f3d-4eb4-bb75-983cbca08f48.tiff</td>\n",
       "      <td>['newport', '902', 'cosmopolitan', 'april', '1...</td>\n",
       "      <td>advertisement</td>\n",
       "      <td>en</td>\n",
       "    </tr>\n",
       "    <tr>\n",
       "      <th>3</th>\n",
       "      <td>3</td>\n",
       "      <td>62d852b8-25eb-48e0-8cfe-0091c4f2453e.tiff</td>\n",
       "      <td>['goforthegołd', 'introduce', 'true', 'gqld', ...</td>\n",
       "      <td>advertisement</td>\n",
       "      <td>en</td>\n",
       "    </tr>\n",
       "    <tr>\n",
       "      <th>4</th>\n",
       "      <td>4</td>\n",
       "      <td>8c5a5c2b-c58d-4f7e-985d-236bcc69011e.tiff</td>\n",
       "      <td>['what', 's', 'tobacoo', 'induisty', 'dong', '...</td>\n",
       "      <td>advertisement</td>\n",
       "      <td>en</td>\n",
       "    </tr>\n",
       "    <tr>\n",
       "      <th>...</th>\n",
       "      <td>...</td>\n",
       "      <td>...</td>\n",
       "      <td>...</td>\n",
       "      <td>...</td>\n",
       "      <td>...</td>\n",
       "    </tr>\n",
       "    <tr>\n",
       "      <th>10824</th>\n",
       "      <td>10824</td>\n",
       "      <td>3827a69b-52cb-4600-a970-5163322ac4d7.jpg</td>\n",
       "      <td>['umowa', '0', 'dzielo', 'kukulowo', '0625', '...</td>\n",
       "      <td>umowa_o_dzielo</td>\n",
       "      <td>pl</td>\n",
       "    </tr>\n",
       "    <tr>\n",
       "      <th>10825</th>\n",
       "      <td>10825</td>\n",
       "      <td>671cca7a-fe43-4743-9c23-4c4a4ef5b810.jpg</td>\n",
       "      <td>['umowa', 'odiflo', 'zawrzeć', 'dzień', '20221...</td>\n",
       "      <td>umowa_o_dzielo</td>\n",
       "      <td>pl</td>\n",
       "    </tr>\n",
       "    <tr>\n",
       "      <th>10826</th>\n",
       "      <td>10826</td>\n",
       "      <td>a09e8f97-35c0-4327-9ab8-dfc2b2052722.jpg</td>\n",
       "      <td>['uowaodiflo', 'zawrzeć', 'dzień', '2020032', ...</td>\n",
       "      <td>umowa_o_dzielo</td>\n",
       "      <td>pl</td>\n",
       "    </tr>\n",
       "    <tr>\n",
       "      <th>10827</th>\n",
       "      <td>10827</td>\n",
       "      <td>42ede5e5-8b9c-48d7-8996-ca81e8408b90.jpg</td>\n",
       "      <td>['umowa', '0', 'dziłlo', 'zawrzeć', 'dzień', '...</td>\n",
       "      <td>umowa_o_dzielo</td>\n",
       "      <td>pl</td>\n",
       "    </tr>\n",
       "    <tr>\n",
       "      <th>10828</th>\n",
       "      <td>10828</td>\n",
       "      <td>c76876e7-1df3-4e1e-8898-cbdb7d44df72.jpg</td>\n",
       "      <td>['umowa', '0', 'dzieło', 'zawrzeć', 'dzień', '...</td>\n",
       "      <td>umowa_o_dzielo</td>\n",
       "      <td>pl</td>\n",
       "    </tr>\n",
       "  </tbody>\n",
       "</table>\n",
       "<p>10829 rows × 5 columns</p>\n",
       "</div>"
      ],
      "text/plain": [
       "       Unnamed: 0                                       File  \\\n",
       "0               0  bb995ead-f65c-43e8-9d7f-771546d21651.tiff   \n",
       "1               1  2a476c78-ce1c-4535-831c-626635b69fef.tiff   \n",
       "2               2  7bbd6936-4f3d-4eb4-bb75-983cbca08f48.tiff   \n",
       "3               3  62d852b8-25eb-48e0-8cfe-0091c4f2453e.tiff   \n",
       "4               4  8c5a5c2b-c58d-4f7e-985d-236bcc69011e.tiff   \n",
       "...           ...                                        ...   \n",
       "10824       10824   3827a69b-52cb-4600-a970-5163322ac4d7.jpg   \n",
       "10825       10825   671cca7a-fe43-4743-9c23-4c4a4ef5b810.jpg   \n",
       "10826       10826   a09e8f97-35c0-4327-9ab8-dfc2b2052722.jpg   \n",
       "10827       10827   42ede5e5-8b9c-48d7-8996-ca81e8408b90.jpg   \n",
       "10828       10828   c76876e7-1df3-4e1e-8898-cbdb7d44df72.jpg   \n",
       "\n",
       "                                                    Text        Category  \\\n",
       "0      ['parliament', 'wsrdd', 'scrambeer', 'engeyi',...   advertisement   \n",
       "1      ['gilvvmather', 'insertion', 'order', 'i6ken7n...   advertisement   \n",
       "2      ['newport', '902', 'cosmopolitan', 'april', '1...   advertisement   \n",
       "3      ['goforthegołd', 'introduce', 'true', 'gqld', ...   advertisement   \n",
       "4      ['what', 's', 'tobacoo', 'induisty', 'dong', '...   advertisement   \n",
       "...                                                  ...             ...   \n",
       "10824  ['umowa', '0', 'dzielo', 'kukulowo', '0625', '...  umowa_o_dzielo   \n",
       "10825  ['umowa', 'odiflo', 'zawrzeć', 'dzień', '20221...  umowa_o_dzielo   \n",
       "10826  ['uowaodiflo', 'zawrzeć', 'dzień', '2020032', ...  umowa_o_dzielo   \n",
       "10827  ['umowa', '0', 'dziłlo', 'zawrzeć', 'dzień', '...  umowa_o_dzielo   \n",
       "10828  ['umowa', '0', 'dzieło', 'zawrzeć', 'dzień', '...  umowa_o_dzielo   \n",
       "\n",
       "      language  \n",
       "0           en  \n",
       "1           en  \n",
       "2           en  \n",
       "3           en  \n",
       "4           en  \n",
       "...        ...  \n",
       "10824       pl  \n",
       "10825       pl  \n",
       "10826       pl  \n",
       "10827       pl  \n",
       "10828       pl  \n",
       "\n",
       "[10829 rows x 5 columns]"
      ]
     },
     "execution_count": 76,
     "metadata": {},
     "output_type": "execute_result"
    }
   ],
   "source": [
    "df_preprocessed = pd.read_csv('C:\\\\Users\\\\Janek\\\\Downloads\\\\df_train_preprocessed.csv')\n",
    "df_preprocessed"
   ]
  },
  {
   "cell_type": "code",
   "execution_count": 77,
   "id": "3feb9e0c",
   "metadata": {},
   "outputs": [],
   "source": [
    "from sklearn.preprocessing import LabelEncoder\n",
    "Encoder = LabelEncoder()\n",
    "df_preprocessed['Category'] = Encoder.fit_transform(df_preprocessed['Category'])"
   ]
  },
  {
   "cell_type": "code",
   "execution_count": 78,
   "id": "fb2336bb",
   "metadata": {},
   "outputs": [
    {
     "data": {
      "text/html": [
       "<div>\n",
       "<style scoped>\n",
       "    .dataframe tbody tr th:only-of-type {\n",
       "        vertical-align: middle;\n",
       "    }\n",
       "\n",
       "    .dataframe tbody tr th {\n",
       "        vertical-align: top;\n",
       "    }\n",
       "\n",
       "    .dataframe thead th {\n",
       "        text-align: right;\n",
       "    }\n",
       "</style>\n",
       "<table border=\"1\" class=\"dataframe\">\n",
       "  <thead>\n",
       "    <tr style=\"text-align: right;\">\n",
       "      <th></th>\n",
       "      <th>Unnamed: 0</th>\n",
       "      <th>File</th>\n",
       "      <th>Text</th>\n",
       "      <th>Category</th>\n",
       "      <th>language</th>\n",
       "    </tr>\n",
       "  </thead>\n",
       "  <tbody>\n",
       "    <tr>\n",
       "      <th>0</th>\n",
       "      <td>0</td>\n",
       "      <td>bb995ead-f65c-43e8-9d7f-771546d21651.tiff</td>\n",
       "      <td>['parliament', 'wsrdd', 'scrambeer', 'engeyi',...</td>\n",
       "      <td>0</td>\n",
       "      <td>en</td>\n",
       "    </tr>\n",
       "    <tr>\n",
       "      <th>1</th>\n",
       "      <td>1</td>\n",
       "      <td>2a476c78-ce1c-4535-831c-626635b69fef.tiff</td>\n",
       "      <td>['gilvvmather', 'insertion', 'order', 'i6ken7n...</td>\n",
       "      <td>0</td>\n",
       "      <td>en</td>\n",
       "    </tr>\n",
       "    <tr>\n",
       "      <th>2</th>\n",
       "      <td>2</td>\n",
       "      <td>7bbd6936-4f3d-4eb4-bb75-983cbca08f48.tiff</td>\n",
       "      <td>['newport', '902', 'cosmopolitan', 'april', '1...</td>\n",
       "      <td>0</td>\n",
       "      <td>en</td>\n",
       "    </tr>\n",
       "    <tr>\n",
       "      <th>3</th>\n",
       "      <td>3</td>\n",
       "      <td>62d852b8-25eb-48e0-8cfe-0091c4f2453e.tiff</td>\n",
       "      <td>['goforthegołd', 'introduce', 'true', 'gqld', ...</td>\n",
       "      <td>0</td>\n",
       "      <td>en</td>\n",
       "    </tr>\n",
       "    <tr>\n",
       "      <th>4</th>\n",
       "      <td>4</td>\n",
       "      <td>8c5a5c2b-c58d-4f7e-985d-236bcc69011e.tiff</td>\n",
       "      <td>['what', 's', 'tobacoo', 'induisty', 'dong', '...</td>\n",
       "      <td>0</td>\n",
       "      <td>en</td>\n",
       "    </tr>\n",
       "    <tr>\n",
       "      <th>...</th>\n",
       "      <td>...</td>\n",
       "      <td>...</td>\n",
       "      <td>...</td>\n",
       "      <td>...</td>\n",
       "      <td>...</td>\n",
       "    </tr>\n",
       "    <tr>\n",
       "      <th>10824</th>\n",
       "      <td>10824</td>\n",
       "      <td>3827a69b-52cb-4600-a970-5163322ac4d7.jpg</td>\n",
       "      <td>['umowa', '0', 'dzielo', 'kukulowo', '0625', '...</td>\n",
       "      <td>19</td>\n",
       "      <td>pl</td>\n",
       "    </tr>\n",
       "    <tr>\n",
       "      <th>10825</th>\n",
       "      <td>10825</td>\n",
       "      <td>671cca7a-fe43-4743-9c23-4c4a4ef5b810.jpg</td>\n",
       "      <td>['umowa', 'odiflo', 'zawrzeć', 'dzień', '20221...</td>\n",
       "      <td>19</td>\n",
       "      <td>pl</td>\n",
       "    </tr>\n",
       "    <tr>\n",
       "      <th>10826</th>\n",
       "      <td>10826</td>\n",
       "      <td>a09e8f97-35c0-4327-9ab8-dfc2b2052722.jpg</td>\n",
       "      <td>['uowaodiflo', 'zawrzeć', 'dzień', '2020032', ...</td>\n",
       "      <td>19</td>\n",
       "      <td>pl</td>\n",
       "    </tr>\n",
       "    <tr>\n",
       "      <th>10827</th>\n",
       "      <td>10827</td>\n",
       "      <td>42ede5e5-8b9c-48d7-8996-ca81e8408b90.jpg</td>\n",
       "      <td>['umowa', '0', 'dziłlo', 'zawrzeć', 'dzień', '...</td>\n",
       "      <td>19</td>\n",
       "      <td>pl</td>\n",
       "    </tr>\n",
       "    <tr>\n",
       "      <th>10828</th>\n",
       "      <td>10828</td>\n",
       "      <td>c76876e7-1df3-4e1e-8898-cbdb7d44df72.jpg</td>\n",
       "      <td>['umowa', '0', 'dzieło', 'zawrzeć', 'dzień', '...</td>\n",
       "      <td>19</td>\n",
       "      <td>pl</td>\n",
       "    </tr>\n",
       "  </tbody>\n",
       "</table>\n",
       "<p>10829 rows × 5 columns</p>\n",
       "</div>"
      ],
      "text/plain": [
       "       Unnamed: 0                                       File  \\\n",
       "0               0  bb995ead-f65c-43e8-9d7f-771546d21651.tiff   \n",
       "1               1  2a476c78-ce1c-4535-831c-626635b69fef.tiff   \n",
       "2               2  7bbd6936-4f3d-4eb4-bb75-983cbca08f48.tiff   \n",
       "3               3  62d852b8-25eb-48e0-8cfe-0091c4f2453e.tiff   \n",
       "4               4  8c5a5c2b-c58d-4f7e-985d-236bcc69011e.tiff   \n",
       "...           ...                                        ...   \n",
       "10824       10824   3827a69b-52cb-4600-a970-5163322ac4d7.jpg   \n",
       "10825       10825   671cca7a-fe43-4743-9c23-4c4a4ef5b810.jpg   \n",
       "10826       10826   a09e8f97-35c0-4327-9ab8-dfc2b2052722.jpg   \n",
       "10827       10827   42ede5e5-8b9c-48d7-8996-ca81e8408b90.jpg   \n",
       "10828       10828   c76876e7-1df3-4e1e-8898-cbdb7d44df72.jpg   \n",
       "\n",
       "                                                    Text  Category language  \n",
       "0      ['parliament', 'wsrdd', 'scrambeer', 'engeyi',...         0       en  \n",
       "1      ['gilvvmather', 'insertion', 'order', 'i6ken7n...         0       en  \n",
       "2      ['newport', '902', 'cosmopolitan', 'april', '1...         0       en  \n",
       "3      ['goforthegołd', 'introduce', 'true', 'gqld', ...         0       en  \n",
       "4      ['what', 's', 'tobacoo', 'induisty', 'dong', '...         0       en  \n",
       "...                                                  ...       ...      ...  \n",
       "10824  ['umowa', '0', 'dzielo', 'kukulowo', '0625', '...        19       pl  \n",
       "10825  ['umowa', 'odiflo', 'zawrzeć', 'dzień', '20221...        19       pl  \n",
       "10826  ['uowaodiflo', 'zawrzeć', 'dzień', '2020032', ...        19       pl  \n",
       "10827  ['umowa', '0', 'dziłlo', 'zawrzeć', 'dzień', '...        19       pl  \n",
       "10828  ['umowa', '0', 'dzieło', 'zawrzeć', 'dzień', '...        19       pl  \n",
       "\n",
       "[10829 rows x 5 columns]"
      ]
     },
     "execution_count": 78,
     "metadata": {},
     "output_type": "execute_result"
    }
   ],
   "source": [
    "df_preprocessed"
   ]
  },
  {
   "cell_type": "code",
   "execution_count": 79,
   "id": "b870e4a2",
   "metadata": {},
   "outputs": [],
   "source": [
    "from sklearn.model_selection import train_test_split\n",
    "df_train, df_val = train_test_split(df_preprocessed, test_size=0.2, random_state=42)"
   ]
  },
  {
   "cell_type": "code",
   "execution_count": 80,
   "id": "f2e9797f",
   "metadata": {},
   "outputs": [],
   "source": [
    "X_train = df_train['Text']\n",
    "y_train = df_train['Category']\n",
    "X_val = df_val['Text']\n",
    "y_val = df_val['Category']\n",
    "X_train_tokens= [str(word_tokenize(entry)) for entry in X_train]\n",
    "Tfidf_vect = TfidfVectorizer(max_features=5000)\n",
    "Tfidf_vect.fit(X_train_tokens)\n",
    "Train_X_Tfidf = Tfidf_vect.transform(X_train)\n",
    "Val_X_Tfidf = Tfidf_vect.transform(X_val)"
   ]
  },
  {
   "cell_type": "markdown",
   "id": "6c6b99ea",
   "metadata": {},
   "source": [
    "## Naive Bayes"
   ]
  },
  {
   "cell_type": "code",
   "execution_count": 81,
   "id": "6f6bed74",
   "metadata": {},
   "outputs": [],
   "source": [
    "def training_pipeline_bayes(Train_X_Tfidf, Val_X_Tfidf, y_val):\n",
    "    Naive = naive_bayes.MultinomialNB()\n",
    "    Naive.fit(Train_X_Tfidf, y_train)\n",
    "    predictions_NB = Naive.predict(Val_X_Tfidf)\n",
    "    accuracy = accuracy_score(predictions_NB, y_val)\n",
    "    f1 = f1_score(predictions_NB, y_val, average='macro')\n",
    "    print(\"Naive Bayes Accuracy Score:\", accuracy * 100)\n",
    "    print(\"Naive Bayes F1 Score:\", f1 * 100)\n",
    "    return predictions_NB"
   ]
  },
  {
   "cell_type": "code",
   "execution_count": 82,
   "id": "5719493b",
   "metadata": {},
   "outputs": [
    {
     "name": "stdout",
     "output_type": "stream",
     "text": [
      "Naive Bayes Accuracy Score: 67.12834718374884\n",
      "Naive Bayes F1 Score: 68.75839993855612\n"
     ]
    },
    {
     "data": {
      "text/plain": [
       "array([ 6,  5,  5, ..., 14, 10,  5])"
      ]
     },
     "execution_count": 82,
     "metadata": {},
     "output_type": "execute_result"
    }
   ],
   "source": [
    "training_pipeline_bayes(Train_X_Tfidf, Val_X_Tfidf, y_val)"
   ]
  },
  {
   "cell_type": "markdown",
   "id": "a5b7152d",
   "metadata": {},
   "source": [
    "## SVM"
   ]
  },
  {
   "cell_type": "code",
   "execution_count": 85,
   "id": "453d4e48",
   "metadata": {},
   "outputs": [],
   "source": [
    "def training_pipeline_svm(Train_X_Tfidf, Val_X_Tfidf, y_val):\n",
    "    SVM = svm.SVC(C=1.0, kernel='linear', degree=3, gamma='auto')\n",
    "    SVM.fit(Train_X_Tfidf,y_train)\n",
    "    predictions_SVM = SVM.predict(Val_X_Tfidf)\n",
    "    accuracy = accuracy_score(predictions_SVM, y_val)\n",
    "    f1 = f1_score(predictions_SVM, y_val, average='macro')\n",
    "    precision = precision_score(predictions_SVM, y_val, average='macro')\n",
    "    recall = recall_score(predictions_SVM, y_val, average='macro')\n",
    "    confusion_mat = confusion_matrix(predictions_SVM, y_val)\n",
    "    confusion_df = pd.DataFrame(confusion_mat, columns=np.unique(y_val), index=np.unique(y_val))\n",
    "    print(\"SVM Accuracy Score:\", accuracy * 100)\n",
    "    print(\"SVM:\", f1 * 100)\n",
    "    print(\"SVM Precision:\", precision * 100)\n",
    "    print(\"SVM Recall:\", recall * 100)\n",
    "    print(\"Confusion Matrix:\")\n",
    "    print(confusion_df)\n",
    "    return predictions_SVM"
   ]
  },
  {
   "cell_type": "code",
   "execution_count": 86,
   "id": "0b4a1a69",
   "metadata": {
    "scrolled": false
   },
   "outputs": [
    {
     "name": "stdout",
     "output_type": "stream",
     "text": [
      "SVM Accuracy Score: 72.80701754385966\n",
      "SVM: 75.45862478683715\n",
      "SVM Precision: 75.50137923799596\n",
      "SVM Recall: 77.02780316543621\n",
      "Confusion Matrix:\n",
      "    0   1   2   3   4   5   6   7   8   9   ...  11  12  13   14  15  16  17  \\\n",
      "0   52   1   2   2   0   6   0   1   0   3  ...   0   5   2    0   0   4   0   \n",
      "1    6  71   3   3   4   2  17   1   3   6  ...   0   6   3    1   0   5   2   \n",
      "2    2   0  91   1   0   0   0   1   3   0  ...   0   4   0    0   0   0   0   \n",
      "3   29   9   2  96   6  19   6   1   1   7  ...   0  21   3    1   4  14   5   \n",
      "4    1   1   1   0  60   1   4   6   2   0  ...   0   3   4    0   0   8   3   \n",
      "5   15   3   1   3   6  92   5   5   1   7  ...   0   4   8    0   2   7   6   \n",
      "6    1   7   0   0   5   1  73   4   1   1  ...   0   0   3    0   0   4   0   \n",
      "7    0   0   5   0   2   2   0  66   5   0  ...   0   4   5    0   1   2   0   \n",
      "8    0   3   5   1   0   1   0  17  72   2  ...   0   2   1    1   0   4   1   \n",
      "9    5   2   0   0   0   1   0   1   0  71  ...   0   7   5    1   6   0   0   \n",
      "10   0   0   0   0   0   0   0   0   0   0  ...   0   0   0    0   0   0   0   \n",
      "11   0   0   0   0   0   0   0   0   0   0  ...  58   0   0    0   0   0   0   \n",
      "12   9   6   0   0   3   0   6   1   5   4  ...   0  63   0    0   0   8   1   \n",
      "13   4   0   0   0   4   2   0   2   1   1  ...   0   0  61    0   0   1   0   \n",
      "14   0   0   0   0   0   0   0   1   0   1  ...   0   2   0  112   0   1   0   \n",
      "15   1   0   0   0   0   0   0   2   0   3  ...   0   1   0    0  96  10   0   \n",
      "16   1   1   1   2   7   1   3   3   5   0  ...   0   8   1    3   6  54   4   \n",
      "17   0   0   0   0   5   0   0   0   0   0  ...   0   0   0    0   0   5  86   \n",
      "18   0   0   0   0   0   0   0   0   0   0  ...   0   0   0    0   0   0   0   \n",
      "19   0   0   0   0   0   0   0   0   0   0  ...   0   0   0    0   0   0   0   \n",
      "20   0   0   0   0   0   0   0   0   0   0  ...   0   0   0    0   0   0   0   \n",
      "\n",
      "    18  19  20  \n",
      "0    0   0   0  \n",
      "1    0   0   0  \n",
      "2    0   0   0  \n",
      "3    0   0   0  \n",
      "4    0   0   0  \n",
      "5    0   0   0  \n",
      "6    0   0   0  \n",
      "7    0   0   0  \n",
      "8    0   0   0  \n",
      "9    0   0   0  \n",
      "10   0   0   0  \n",
      "11   0   0   0  \n",
      "12   0   0   0  \n",
      "13   0   0   0  \n",
      "14   0   0   0  \n",
      "15   0   0   0  \n",
      "16   0   0   0  \n",
      "17   0   0   0  \n",
      "18  71   0   0  \n",
      "19   0  81   0  \n",
      "20   0   0  64  \n",
      "\n",
      "[21 rows x 21 columns]\n"
     ]
    },
    {
     "data": {
      "text/plain": [
       "array([ 6,  3,  3, ..., 16, 10,  5])"
      ]
     },
     "execution_count": 86,
     "metadata": {},
     "output_type": "execute_result"
    }
   ],
   "source": [
    "training_pipeline_svm(Train_X_Tfidf, Val_X_Tfidf, y_val)"
   ]
  },
  {
   "cell_type": "markdown",
   "id": "f050efec",
   "metadata": {},
   "source": [
    "bezbledne fitowanie:\n",
    "-umowa_sprzedazy_samochodu \n",
    "-umowa_o_dzielo \n",
    "-umowa_na_odleglosc_odstapienie \n",
    "-pozwolenie_uzytkowanie_obiektu_budowlanego"
   ]
  },
  {
   "cell_type": "markdown",
   "id": "279a37f6",
   "metadata": {},
   "source": [
    "## XGBoost"
   ]
  },
  {
   "cell_type": "code",
   "execution_count": 87,
   "id": "cc7f3c54",
   "metadata": {},
   "outputs": [],
   "source": [
    "import xgboost as xgb\n",
    "\n",
    "def training_pipeline_xgb(Train_X_Tfidf, Val_X_Tfidf, y_val):    \n",
    "    xgb_model = xgb.XGBClassifier()\n",
    "    xgb_model.fit(Train_X_Tfidf, y_train)\n",
    "    \n",
    "    predictions_xgb = xgb_model.predict(Val_X_Tfidf)\n",
    "    accuracy = accuracy_score(predictions_xgb, y_val)\n",
    "    f1 = f1_score(predictions_xgb, y_val, average='macro')\n",
    "    \n",
    "    print(\"XGBoost Accuracy Score:\", accuracy * 100)\n",
    "    print(\"XGBoost F1 Score:\", f1 * 100)\n",
    "    \n",
    "    return predictions_xgb"
   ]
  },
  {
   "cell_type": "code",
   "execution_count": 89,
   "id": "7364fca8",
   "metadata": {},
   "outputs": [
    {
     "name": "stderr",
     "output_type": "stream",
     "text": [
      "C:\\Users\\Janek\\anaconda3\\lib\\site-packages\\xgboost\\sklearn.py:1146: UserWarning: The use of label encoder in XGBClassifier is deprecated and will be removed in a future release. To remove this warning, do the following: 1) Pass option use_label_encoder=False when constructing XGBClassifier object; and 2) Encode your labels (y) as integers starting with 0, i.e. 0, 1, 2, ..., [num_class - 1].\n",
      "  warnings.warn(label_encoder_deprecation_msg, UserWarning)\n"
     ]
    },
    {
     "name": "stdout",
     "output_type": "stream",
     "text": [
      "[01:24:55] WARNING: C:/Users/Administrator/workspace/xgboost-win64_release_1.4.0/src/learner.cc:1095: Starting in XGBoost 1.3.0, the default evaluation metric used with the objective 'multi:softprob' was changed from 'merror' to 'mlogloss'. Explicitly set eval_metric if you'd like to restore the old behavior.\n",
      "XGBoost Accuracy Score: 69.71375807940905\n",
      "XGBoost F1 Score: 72.44792115047309\n"
     ]
    },
    {
     "data": {
      "text/plain": [
       "array([ 1,  3,  3, ...,  3, 10,  5])"
      ]
     },
     "execution_count": 89,
     "metadata": {},
     "output_type": "execute_result"
    }
   ],
   "source": [
    "training_pipeline_xgb(Train_X_Tfidf, Val_X_Tfidf, y_val)"
   ]
  },
  {
   "cell_type": "markdown",
   "id": "c56443e9",
   "metadata": {},
   "source": [
    "## LinearSVC"
   ]
  },
  {
   "cell_type": "code",
   "execution_count": 90,
   "id": "e0ce1f8b",
   "metadata": {},
   "outputs": [],
   "source": [
    "from sklearn.svm import LinearSVC\n",
    "\n",
    "def training_pipeline_linear(Train_X_Tfidf, Val_X_Tfidf, y_val):    \n",
    "    linear_model = LinearSVC()\n",
    "    linear_model.fit(Train_X_Tfidf, y_train)\n",
    "    \n",
    "    predictions_linear = linear_model.predict(Val_X_Tfidf)\n",
    "    accuracy = accuracy_score(predictions_linear, y_val)\n",
    "    f1 = f1_score(predictions_linear, y_val, average='macro')\n",
    "    \n",
    "    print(\"Linear Classifier Accuracy Score:\", accuracy * 100)\n",
    "    print(\"Linear Classifier F1 Score:\", f1 * 100)\n",
    "    \n",
    "    return predictions_linear"
   ]
  },
  {
   "cell_type": "code",
   "execution_count": 91,
   "id": "f8e3aa0d",
   "metadata": {},
   "outputs": [
    {
     "name": "stdout",
     "output_type": "stream",
     "text": [
      "Linear Classifier Accuracy Score: 71.37580794090489\n",
      "Linear Classifier F1 Score: 73.74887330222634\n"
     ]
    },
    {
     "data": {
      "text/plain": [
       "array([ 6,  3,  3, ..., 14, 10,  6])"
      ]
     },
     "execution_count": 91,
     "metadata": {},
     "output_type": "execute_result"
    }
   ],
   "source": [
    "training_pipeline_linear(Train_X_Tfidf, Val_X_Tfidf, y_val)"
   ]
  },
  {
   "cell_type": "markdown",
   "id": "f6a57203",
   "metadata": {},
   "source": [
    "## Random Forest"
   ]
  },
  {
   "cell_type": "code",
   "execution_count": 92,
   "id": "fa2685df",
   "metadata": {},
   "outputs": [],
   "source": [
    "from sklearn.ensemble import RandomForestClassifier\n",
    "\n",
    "def training_pipeline_rf(Train_X_Tfidf, Val_X_Tfidf, y_val):\n",
    "    rf_model = RandomForestClassifier()\n",
    "    rf_model.fit(Train_X_Tfidf, y_train)\n",
    "    \n",
    "    predictions_rf = rf_model.predict(Val_X_Tfidf)\n",
    "    accuracy = accuracy_score(predictions_rf, y_val)\n",
    "    f1 = f1_score(predictions_rf, y_val, average='macro')\n",
    "    \n",
    "    print(\"Random Forest Accuracy Score:\", accuracy * 100)\n",
    "    print(\"Random Forest F1 Score:\", f1 * 100)\n",
    "    \n",
    "    return predictions_rf"
   ]
  },
  {
   "cell_type": "code",
   "execution_count": 93,
   "id": "86a6e075",
   "metadata": {},
   "outputs": [
    {
     "name": "stdout",
     "output_type": "stream",
     "text": [
      "Random Forest Accuracy Score: 69.62142197599262\n",
      "Random Forest F1 Score: 72.21017976314799\n"
     ]
    },
    {
     "data": {
      "text/plain": [
       "array([ 4,  3,  3, ..., 14, 10,  5])"
      ]
     },
     "execution_count": 93,
     "metadata": {},
     "output_type": "execute_result"
    }
   ],
   "source": [
    "training_pipeline_rf(Train_X_Tfidf, Val_X_Tfidf, y_val)"
   ]
  },
  {
   "cell_type": "markdown",
   "id": "15c4176f",
   "metadata": {},
   "source": [
    "## Logistic Regression"
   ]
  },
  {
   "cell_type": "code",
   "execution_count": 96,
   "id": "79bc7c3a",
   "metadata": {},
   "outputs": [],
   "source": [
    "from sklearn.linear_model import LogisticRegression\n",
    "from sklearn.feature_extraction.text import TfidfVectorizer\n",
    "\n",
    "def training_pipeline_lr(Train_X_Tfidf, Val_X_Tfidf, y_val):\n",
    "    LR = LogisticRegression()\n",
    "    LR.fit(Train_X_Tfidf, y_train)\n",
    "    predictions_LR = LR.predict(Val_X_Tfidf)\n",
    "    accuracy = accuracy_score(predictions_LR, y_val)\n",
    "    f1 = f1_score(predictions_LR, y_val, average='macro')\n",
    "    precision = precision_score(predictions_LR, y_val, average='macro')\n",
    "    recall = recall_score(predictions_LR, y_val, average='macro')\n",
    "    confusion_mat = confusion_matrix(predictions_LR, y_val)\n",
    "    \n",
    "    # Convert confusion matrix to DataFrame for better visualization\n",
    "    confusion_df = pd.DataFrame(confusion_mat, columns=np.unique(y_val), index=np.unique(y_val))\n",
    "    \n",
    "    print(\"Logistic Regression Accuracy Score:\", accuracy * 100)\n",
    "    print(\"Logistic Regression F1 Score:\", f1 * 100)\n",
    "    print(\"Logistic Regression Precision:\", precision * 100)\n",
    "    print(\"Logistic Regression Recall:\", recall * 100)\n",
    "    \n",
    "    return predictions_LR"
   ]
  },
  {
   "cell_type": "code",
   "execution_count": 97,
   "id": "1bfc234f",
   "metadata": {},
   "outputs": [
    {
     "name": "stdout",
     "output_type": "stream",
     "text": [
      "Logistic Regression Accuracy Score: 72.25300092336103\n",
      "Logistic Regression F1 Score: 74.75140738891875\n",
      "Logistic Regression Precision: 74.94686982977707\n",
      "Logistic Regression Recall: 76.20092476825808\n"
     ]
    },
    {
     "data": {
      "text/plain": [
       "array([ 6,  3,  3, ...,  3, 10,  5])"
      ]
     },
     "execution_count": 97,
     "metadata": {},
     "output_type": "execute_result"
    }
   ],
   "source": [
    "training_pipeline_lr(Train_X_Tfidf, Val_X_Tfidf, y_val)"
   ]
  },
  {
   "cell_type": "markdown",
   "id": "1ad3c31c",
   "metadata": {},
   "source": [
    "# Top 2 logistic regression i SVM"
   ]
  }
 ],
 "metadata": {
  "kernelspec": {
   "display_name": "Python 3 (ipykernel)",
   "language": "python",
   "name": "python3"
  },
  "language_info": {
   "codemirror_mode": {
    "name": "ipython",
    "version": 3
   },
   "file_extension": ".py",
   "mimetype": "text/x-python",
   "name": "python",
   "nbconvert_exporter": "python",
   "pygments_lexer": "ipython3",
   "version": "3.9.7"
  }
 },
 "nbformat": 4,
 "nbformat_minor": 5
}
