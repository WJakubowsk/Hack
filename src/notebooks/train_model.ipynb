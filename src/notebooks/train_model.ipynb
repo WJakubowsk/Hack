{
 "cells": [
  {
   "cell_type": "code",
   "execution_count": 25,
   "id": "06546340",
   "metadata": {},
   "outputs": [],
   "source": [
    "from sklearn.feature_extraction.text import TfidfVectorizer\n",
    "from sklearn import model_selection, naive_bayes, svm\n",
    "from sklearn.metrics import accuracy_score, f1_score\n",
    "from nltk.tokenize import word_tokenize\n",
    "import pandas as pd"
   ]
  },
  {
   "cell_type": "code",
   "execution_count": 10,
   "id": "1e1ddd3e",
   "metadata": {},
   "outputs": [
    {
     "data": {
      "text/html": [
       "<div>\n",
       "<style scoped>\n",
       "    .dataframe tbody tr th:only-of-type {\n",
       "        vertical-align: middle;\n",
       "    }\n",
       "\n",
       "    .dataframe tbody tr th {\n",
       "        vertical-align: top;\n",
       "    }\n",
       "\n",
       "    .dataframe thead th {\n",
       "        text-align: right;\n",
       "    }\n",
       "</style>\n",
       "<table border=\"1\" class=\"dataframe\">\n",
       "  <thead>\n",
       "    <tr style=\"text-align: right;\">\n",
       "      <th></th>\n",
       "      <th>Unnamed: 0</th>\n",
       "      <th>File</th>\n",
       "      <th>Text</th>\n",
       "      <th>Category</th>\n",
       "      <th>language</th>\n",
       "    </tr>\n",
       "  </thead>\n",
       "  <tbody>\n",
       "    <tr>\n",
       "      <th>0</th>\n",
       "      <td>0</td>\n",
       "      <td>bb995ead-f65c-43e8-9d7f-771546d21651.tiff</td>\n",
       "      <td>['parliament', 'wsrdd', 'scrambeer', 'engeyi',...</td>\n",
       "      <td>advertisement</td>\n",
       "      <td>en</td>\n",
       "    </tr>\n",
       "    <tr>\n",
       "      <th>1</th>\n",
       "      <td>1</td>\n",
       "      <td>2a476c78-ce1c-4535-831c-626635b69fef.tiff</td>\n",
       "      <td>['gilvvmather', 'insertion', 'order', 'i6ken7n...</td>\n",
       "      <td>advertisement</td>\n",
       "      <td>en</td>\n",
       "    </tr>\n",
       "    <tr>\n",
       "      <th>2</th>\n",
       "      <td>2</td>\n",
       "      <td>7bbd6936-4f3d-4eb4-bb75-983cbca08f48.tiff</td>\n",
       "      <td>['newport', '902', 'cosmopolitan', 'april', '1...</td>\n",
       "      <td>advertisement</td>\n",
       "      <td>en</td>\n",
       "    </tr>\n",
       "    <tr>\n",
       "      <th>3</th>\n",
       "      <td>3</td>\n",
       "      <td>62d852b8-25eb-48e0-8cfe-0091c4f2453e.tiff</td>\n",
       "      <td>['goforthegołd', 'introduce', 'true', 'gqld', ...</td>\n",
       "      <td>advertisement</td>\n",
       "      <td>en</td>\n",
       "    </tr>\n",
       "    <tr>\n",
       "      <th>4</th>\n",
       "      <td>4</td>\n",
       "      <td>8c5a5c2b-c58d-4f7e-985d-236bcc69011e.tiff</td>\n",
       "      <td>['what', 's', 'tobacoo', 'induisty', 'dong', '...</td>\n",
       "      <td>advertisement</td>\n",
       "      <td>en</td>\n",
       "    </tr>\n",
       "    <tr>\n",
       "      <th>...</th>\n",
       "      <td>...</td>\n",
       "      <td>...</td>\n",
       "      <td>...</td>\n",
       "      <td>...</td>\n",
       "      <td>...</td>\n",
       "    </tr>\n",
       "    <tr>\n",
       "      <th>10824</th>\n",
       "      <td>10824</td>\n",
       "      <td>3827a69b-52cb-4600-a970-5163322ac4d7.jpg</td>\n",
       "      <td>['umowa', '0', 'dzielo', 'kukulowo', '0625', '...</td>\n",
       "      <td>umowa_o_dzielo</td>\n",
       "      <td>pl</td>\n",
       "    </tr>\n",
       "    <tr>\n",
       "      <th>10825</th>\n",
       "      <td>10825</td>\n",
       "      <td>671cca7a-fe43-4743-9c23-4c4a4ef5b810.jpg</td>\n",
       "      <td>['umowa', 'odiflo', 'zawrzeć', 'dzień', '20221...</td>\n",
       "      <td>umowa_o_dzielo</td>\n",
       "      <td>pl</td>\n",
       "    </tr>\n",
       "    <tr>\n",
       "      <th>10826</th>\n",
       "      <td>10826</td>\n",
       "      <td>a09e8f97-35c0-4327-9ab8-dfc2b2052722.jpg</td>\n",
       "      <td>['uowaodiflo', 'zawrzeć', 'dzień', '2020032', ...</td>\n",
       "      <td>umowa_o_dzielo</td>\n",
       "      <td>pl</td>\n",
       "    </tr>\n",
       "    <tr>\n",
       "      <th>10827</th>\n",
       "      <td>10827</td>\n",
       "      <td>42ede5e5-8b9c-48d7-8996-ca81e8408b90.jpg</td>\n",
       "      <td>['umowa', '0', 'dziłlo', 'zawrzeć', 'dzień', '...</td>\n",
       "      <td>umowa_o_dzielo</td>\n",
       "      <td>pl</td>\n",
       "    </tr>\n",
       "    <tr>\n",
       "      <th>10828</th>\n",
       "      <td>10828</td>\n",
       "      <td>c76876e7-1df3-4e1e-8898-cbdb7d44df72.jpg</td>\n",
       "      <td>['umowa', '0', 'dzieło', 'zawrzeć', 'dzień', '...</td>\n",
       "      <td>umowa_o_dzielo</td>\n",
       "      <td>pl</td>\n",
       "    </tr>\n",
       "  </tbody>\n",
       "</table>\n",
       "<p>10829 rows × 5 columns</p>\n",
       "</div>"
      ],
      "text/plain": [
       "       Unnamed: 0                                       File  \\\n",
       "0               0  bb995ead-f65c-43e8-9d7f-771546d21651.tiff   \n",
       "1               1  2a476c78-ce1c-4535-831c-626635b69fef.tiff   \n",
       "2               2  7bbd6936-4f3d-4eb4-bb75-983cbca08f48.tiff   \n",
       "3               3  62d852b8-25eb-48e0-8cfe-0091c4f2453e.tiff   \n",
       "4               4  8c5a5c2b-c58d-4f7e-985d-236bcc69011e.tiff   \n",
       "...           ...                                        ...   \n",
       "10824       10824   3827a69b-52cb-4600-a970-5163322ac4d7.jpg   \n",
       "10825       10825   671cca7a-fe43-4743-9c23-4c4a4ef5b810.jpg   \n",
       "10826       10826   a09e8f97-35c0-4327-9ab8-dfc2b2052722.jpg   \n",
       "10827       10827   42ede5e5-8b9c-48d7-8996-ca81e8408b90.jpg   \n",
       "10828       10828   c76876e7-1df3-4e1e-8898-cbdb7d44df72.jpg   \n",
       "\n",
       "                                                    Text        Category  \\\n",
       "0      ['parliament', 'wsrdd', 'scrambeer', 'engeyi',...   advertisement   \n",
       "1      ['gilvvmather', 'insertion', 'order', 'i6ken7n...   advertisement   \n",
       "2      ['newport', '902', 'cosmopolitan', 'april', '1...   advertisement   \n",
       "3      ['goforthegołd', 'introduce', 'true', 'gqld', ...   advertisement   \n",
       "4      ['what', 's', 'tobacoo', 'induisty', 'dong', '...   advertisement   \n",
       "...                                                  ...             ...   \n",
       "10824  ['umowa', '0', 'dzielo', 'kukulowo', '0625', '...  umowa_o_dzielo   \n",
       "10825  ['umowa', 'odiflo', 'zawrzeć', 'dzień', '20221...  umowa_o_dzielo   \n",
       "10826  ['uowaodiflo', 'zawrzeć', 'dzień', '2020032', ...  umowa_o_dzielo   \n",
       "10827  ['umowa', '0', 'dziłlo', 'zawrzeć', 'dzień', '...  umowa_o_dzielo   \n",
       "10828  ['umowa', '0', 'dzieło', 'zawrzeć', 'dzień', '...  umowa_o_dzielo   \n",
       "\n",
       "      language  \n",
       "0           en  \n",
       "1           en  \n",
       "2           en  \n",
       "3           en  \n",
       "4           en  \n",
       "...        ...  \n",
       "10824       pl  \n",
       "10825       pl  \n",
       "10826       pl  \n",
       "10827       pl  \n",
       "10828       pl  \n",
       "\n",
       "[10829 rows x 5 columns]"
      ]
     },
     "execution_count": 10,
     "metadata": {},
     "output_type": "execute_result"
    }
   ],
   "source": [
    "df_preprocessed = pd.read_csv('C:\\\\Users\\\\Janek\\\\Downloads\\\\df_train_preprocessed.csv')\n",
    "df_preprocessed"
   ]
  },
  {
   "cell_type": "code",
   "execution_count": 18,
   "id": "43cf804a",
   "metadata": {},
   "outputs": [],
   "source": [
    "from sklearn.preprocessing import LabelEncoder\n",
    "Encoder = LabelEncoder()\n",
    "df_preprocessed['Category'] = Encoder.fit_transform(df_preprocessed['Category'])"
   ]
  },
  {
   "cell_type": "code",
   "execution_count": 52,
   "id": "e8e6c30b",
   "metadata": {},
   "outputs": [
    {
     "data": {
      "text/html": [
       "<div>\n",
       "<style scoped>\n",
       "    .dataframe tbody tr th:only-of-type {\n",
       "        vertical-align: middle;\n",
       "    }\n",
       "\n",
       "    .dataframe tbody tr th {\n",
       "        vertical-align: top;\n",
       "    }\n",
       "\n",
       "    .dataframe thead th {\n",
       "        text-align: right;\n",
       "    }\n",
       "</style>\n",
       "<table border=\"1\" class=\"dataframe\">\n",
       "  <thead>\n",
       "    <tr style=\"text-align: right;\">\n",
       "      <th></th>\n",
       "      <th>Unnamed: 0</th>\n",
       "      <th>File</th>\n",
       "      <th>Text</th>\n",
       "      <th>Category</th>\n",
       "      <th>language</th>\n",
       "    </tr>\n",
       "  </thead>\n",
       "  <tbody>\n",
       "    <tr>\n",
       "      <th>0</th>\n",
       "      <td>0</td>\n",
       "      <td>bb995ead-f65c-43e8-9d7f-771546d21651.tiff</td>\n",
       "      <td>['parliament', 'wsrdd', 'scrambeer', 'engeyi',...</td>\n",
       "      <td>0</td>\n",
       "      <td>en</td>\n",
       "    </tr>\n",
       "    <tr>\n",
       "      <th>1</th>\n",
       "      <td>1</td>\n",
       "      <td>2a476c78-ce1c-4535-831c-626635b69fef.tiff</td>\n",
       "      <td>['gilvvmather', 'insertion', 'order', 'i6ken7n...</td>\n",
       "      <td>0</td>\n",
       "      <td>en</td>\n",
       "    </tr>\n",
       "    <tr>\n",
       "      <th>2</th>\n",
       "      <td>2</td>\n",
       "      <td>7bbd6936-4f3d-4eb4-bb75-983cbca08f48.tiff</td>\n",
       "      <td>['newport', '902', 'cosmopolitan', 'april', '1...</td>\n",
       "      <td>0</td>\n",
       "      <td>en</td>\n",
       "    </tr>\n",
       "    <tr>\n",
       "      <th>3</th>\n",
       "      <td>3</td>\n",
       "      <td>62d852b8-25eb-48e0-8cfe-0091c4f2453e.tiff</td>\n",
       "      <td>['goforthegołd', 'introduce', 'true', 'gqld', ...</td>\n",
       "      <td>0</td>\n",
       "      <td>en</td>\n",
       "    </tr>\n",
       "    <tr>\n",
       "      <th>4</th>\n",
       "      <td>4</td>\n",
       "      <td>8c5a5c2b-c58d-4f7e-985d-236bcc69011e.tiff</td>\n",
       "      <td>['what', 's', 'tobacoo', 'induisty', 'dong', '...</td>\n",
       "      <td>0</td>\n",
       "      <td>en</td>\n",
       "    </tr>\n",
       "    <tr>\n",
       "      <th>...</th>\n",
       "      <td>...</td>\n",
       "      <td>...</td>\n",
       "      <td>...</td>\n",
       "      <td>...</td>\n",
       "      <td>...</td>\n",
       "    </tr>\n",
       "    <tr>\n",
       "      <th>10824</th>\n",
       "      <td>10824</td>\n",
       "      <td>3827a69b-52cb-4600-a970-5163322ac4d7.jpg</td>\n",
       "      <td>['umowa', '0', 'dzielo', 'kukulowo', '0625', '...</td>\n",
       "      <td>19</td>\n",
       "      <td>pl</td>\n",
       "    </tr>\n",
       "    <tr>\n",
       "      <th>10825</th>\n",
       "      <td>10825</td>\n",
       "      <td>671cca7a-fe43-4743-9c23-4c4a4ef5b810.jpg</td>\n",
       "      <td>['umowa', 'odiflo', 'zawrzeć', 'dzień', '20221...</td>\n",
       "      <td>19</td>\n",
       "      <td>pl</td>\n",
       "    </tr>\n",
       "    <tr>\n",
       "      <th>10826</th>\n",
       "      <td>10826</td>\n",
       "      <td>a09e8f97-35c0-4327-9ab8-dfc2b2052722.jpg</td>\n",
       "      <td>['uowaodiflo', 'zawrzeć', 'dzień', '2020032', ...</td>\n",
       "      <td>19</td>\n",
       "      <td>pl</td>\n",
       "    </tr>\n",
       "    <tr>\n",
       "      <th>10827</th>\n",
       "      <td>10827</td>\n",
       "      <td>42ede5e5-8b9c-48d7-8996-ca81e8408b90.jpg</td>\n",
       "      <td>['umowa', '0', 'dziłlo', 'zawrzeć', 'dzień', '...</td>\n",
       "      <td>19</td>\n",
       "      <td>pl</td>\n",
       "    </tr>\n",
       "    <tr>\n",
       "      <th>10828</th>\n",
       "      <td>10828</td>\n",
       "      <td>c76876e7-1df3-4e1e-8898-cbdb7d44df72.jpg</td>\n",
       "      <td>['umowa', '0', 'dzieło', 'zawrzeć', 'dzień', '...</td>\n",
       "      <td>19</td>\n",
       "      <td>pl</td>\n",
       "    </tr>\n",
       "  </tbody>\n",
       "</table>\n",
       "<p>10829 rows × 5 columns</p>\n",
       "</div>"
      ],
      "text/plain": [
       "       Unnamed: 0                                       File  \\\n",
       "0               0  bb995ead-f65c-43e8-9d7f-771546d21651.tiff   \n",
       "1               1  2a476c78-ce1c-4535-831c-626635b69fef.tiff   \n",
       "2               2  7bbd6936-4f3d-4eb4-bb75-983cbca08f48.tiff   \n",
       "3               3  62d852b8-25eb-48e0-8cfe-0091c4f2453e.tiff   \n",
       "4               4  8c5a5c2b-c58d-4f7e-985d-236bcc69011e.tiff   \n",
       "...           ...                                        ...   \n",
       "10824       10824   3827a69b-52cb-4600-a970-5163322ac4d7.jpg   \n",
       "10825       10825   671cca7a-fe43-4743-9c23-4c4a4ef5b810.jpg   \n",
       "10826       10826   a09e8f97-35c0-4327-9ab8-dfc2b2052722.jpg   \n",
       "10827       10827   42ede5e5-8b9c-48d7-8996-ca81e8408b90.jpg   \n",
       "10828       10828   c76876e7-1df3-4e1e-8898-cbdb7d44df72.jpg   \n",
       "\n",
       "                                                    Text  Category language  \n",
       "0      ['parliament', 'wsrdd', 'scrambeer', 'engeyi',...         0       en  \n",
       "1      ['gilvvmather', 'insertion', 'order', 'i6ken7n...         0       en  \n",
       "2      ['newport', '902', 'cosmopolitan', 'april', '1...         0       en  \n",
       "3      ['goforthegołd', 'introduce', 'true', 'gqld', ...         0       en  \n",
       "4      ['what', 's', 'tobacoo', 'induisty', 'dong', '...         0       en  \n",
       "...                                                  ...       ...      ...  \n",
       "10824  ['umowa', '0', 'dzielo', 'kukulowo', '0625', '...        19       pl  \n",
       "10825  ['umowa', 'odiflo', 'zawrzeć', 'dzień', '20221...        19       pl  \n",
       "10826  ['uowaodiflo', 'zawrzeć', 'dzień', '2020032', ...        19       pl  \n",
       "10827  ['umowa', '0', 'dziłlo', 'zawrzeć', 'dzień', '...        19       pl  \n",
       "10828  ['umowa', '0', 'dzieło', 'zawrzeć', 'dzień', '...        19       pl  \n",
       "\n",
       "[10829 rows x 5 columns]"
      ]
     },
     "execution_count": 52,
     "metadata": {},
     "output_type": "execute_result"
    }
   ],
   "source": [
    "df_preprocessed"
   ]
  },
  {
   "cell_type": "code",
   "execution_count": 53,
   "id": "a427d329",
   "metadata": {},
   "outputs": [],
   "source": [
    "from sklearn.model_selection import train_test_split\n",
    "df_train, df_val = train_test_split(df_preprocessed, test_size=0.2, random_state=42)"
   ]
  },
  {
   "cell_type": "code",
   "execution_count": 54,
   "id": "3733c64c",
   "metadata": {},
   "outputs": [],
   "source": [
    "X_train = df_train['Text']\n",
    "y_train = df_train['Category']\n",
    "X_val = df_val['Text']\n",
    "y_val = df_val['Category']\n",
    "X_train_tokens= [str(word_tokenize(entry)) for entry in X_train]\n",
    "Tfidf_vect = TfidfVectorizer(max_features=5000)\n",
    "Tfidf_vect.fit(X_train_tokens)\n",
    "Train_X_Tfidf = Tfidf_vect.transform(X_train)"
   ]
  },
  {
   "cell_type": "code",
   "execution_count": 44,
   "id": "02a8824d",
   "metadata": {},
   "outputs": [
    {
     "name": "stdout",
     "output_type": "stream",
     "text": [
      "  (0, 4615)\t0.18352867580570673\n",
      "  (0, 2796)\t0.17798074681899534\n",
      "  (0, 2519)\t0.15072423989443579\n",
      "  (0, 2184)\t0.1372953394983992\n",
      "  (0, 1995)\t0.15734900442664815\n",
      "  (0, 1508)\t0.21413471346519147\n",
      "  (0, 1476)\t0.19124094441881725\n",
      "  (0, 483)\t0.2093073046724029\n",
      "  (0, 463)\t0.1974358591286235\n",
      "  (0, 445)\t0.18234019164364523\n",
      "  (0, 438)\t0.41452356331234413\n",
      "  (0, 433)\t0.14474102107160766\n",
      "  (0, 432)\t0.44061940212279105\n",
      "  (0, 407)\t0.18352867580570673\n",
      "  (0, 335)\t0.15752885729896207\n",
      "  (0, 180)\t0.15844346541029555\n",
      "  (0, 179)\t0.3494994035515548\n",
      "  (0, 107)\t0.2430504387182748\n",
      "  (0, 0)\t0.13452648570070488\n",
      "  (1, 4994)\t0.21611645064585033\n",
      "  (1, 4951)\t0.14630838366744145\n",
      "  (1, 4874)\t0.18976824974109396\n",
      "  (1, 4740)\t0.23681971169439403\n",
      "  (1, 4605)\t0.17779961948913106\n",
      "  (1, 4178)\t0.2718512299539105\n",
      "  :\t:\n",
      "  (8662, 2664)\t0.12616458164366204\n",
      "  (8662, 2585)\t0.10243288688806566\n",
      "  (8662, 2584)\t0.10415866853613279\n",
      "  (8662, 2467)\t0.08556737043008432\n",
      "  (8662, 2338)\t0.08857669339432378\n",
      "  (8662, 1939)\t0.08643116588405926\n",
      "  (8662, 1721)\t0.14610352189717804\n",
      "  (8662, 1659)\t0.13358238127521263\n",
      "  (8662, 1610)\t0.11829402300651978\n",
      "  (8662, 1602)\t0.10826182989168838\n",
      "  (8662, 1402)\t0.08336069230396129\n",
      "  (8662, 1372)\t0.09398027673604167\n",
      "  (8662, 1318)\t0.23973113054477335\n",
      "  (8662, 1237)\t0.09486821233539448\n",
      "  (8662, 1234)\t0.31325172179641275\n",
      "  (8662, 1225)\t0.1410526066439065\n",
      "  (8662, 1194)\t0.0996657988453373\n",
      "  (8662, 1188)\t0.15479008683488743\n",
      "  (8662, 951)\t0.10303304460075416\n",
      "  (8662, 740)\t0.1302047697333664\n",
      "  (8662, 731)\t0.09374450609182264\n",
      "  (8662, 700)\t0.12890884688145887\n",
      "  (8662, 654)\t0.14342617068132463\n",
      "  (8662, 118)\t0.13578905940133568\n",
      "  (8662, 50)\t0.1442811494350839\n"
     ]
    }
   ],
   "source": [
    "print(Train_X_Tfidf)"
   ]
  },
  {
   "cell_type": "markdown",
   "id": "4a6df8d4",
   "metadata": {},
   "source": [
    "## Naive Bayes"
   ]
  },
  {
   "cell_type": "code",
   "execution_count": 28,
   "id": "1ed505c8",
   "metadata": {},
   "outputs": [],
   "source": [
    "def training_pipeline_bayes(df_train, df_val):\n",
    "    X_train = df_train['Text']\n",
    "    y_train = df_train['Category']\n",
    "    X_val = df_val['Text']\n",
    "    y_val = df_val['Category']\n",
    "    X_train_tokens= [str(word_tokenize(entry)) for entry in X_train]\n",
    "    Tfidf_vect = TfidfVectorizer(max_features=5000)\n",
    "    Tfidf_vect.fit(X_train_tokens)\n",
    "    Train_X_Tfidf = Tfidf_vect.transform(X_train)\n",
    "    Val_X_Tfidf = Tfidf_vect.transform(X_val)\n",
    "    \n",
    "    Naive = naive_bayes.MultinomialNB()\n",
    "    Naive.fit(Train_X_Tfidf, y_train)\n",
    "    predictions_NB = Naive.predict(Val_X_Tfidf)\n",
    "    accuracy = accuracy_score(predictions_NB, y_val)\n",
    "    f1 = f1_score(predictions_NB, y_val, average='macro')\n",
    "    print(\"Naive Bayes Accuracy Score:\", accuracy * 100)\n",
    "    print(\"Naive Bayes F1 Score:\", f1 * 100)\n",
    "    return predictions_NB"
   ]
  },
  {
   "cell_type": "code",
   "execution_count": 27,
   "id": "e0f4e112",
   "metadata": {},
   "outputs": [
    {
     "name": "stdout",
     "output_type": "stream",
     "text": [
      "Naive Bayes Accuracy Score: 67.12834718374884\n",
      "Naive Bayes F1 Score: 68.75839993855612\n"
     ]
    },
    {
     "data": {
      "text/plain": [
       "array(['invoice', 'handwritten', 'handwritten', ..., 'resume', 'pit37_v1',\n",
       "       'handwritten'], dtype='<U42')"
      ]
     },
     "execution_count": 27,
     "metadata": {},
     "output_type": "execute_result"
    }
   ],
   "source": [
    "training_pipeline_bayes(df_train, df_val)"
   ]
  },
  {
   "cell_type": "markdown",
   "id": "4a630575",
   "metadata": {},
   "source": [
    "## SVM"
   ]
  },
  {
   "cell_type": "code",
   "execution_count": 56,
   "id": "8a094385",
   "metadata": {},
   "outputs": [],
   "source": [
    "def training_pipeline_svm(df_train, df_val):\n",
    "    X_train = df_train['Text']\n",
    "    y_train = df_train['Category']\n",
    "    X_val = df_val['Text']\n",
    "    y_val = df_val['Category']\n",
    "    X_train_tokens= [str(word_tokenize(entry)) for entry in X_train]\n",
    "    Tfidf_vect = TfidfVectorizer(max_features=5000)\n",
    "    Tfidf_vect.fit(X_train_tokens)\n",
    "    Train_X_Tfidf = Tfidf_vect.transform(X_train)\n",
    "    Val_X_Tfidf = Tfidf_vect.transform(X_val)\n",
    "    SVM = svm.SVC(C=1.0, kernel='linear', degree=3, gamma='auto')\n",
    "    SVM.fit(Train_X_Tfidf,y_train)\n",
    "    predictions_SVM = SVM.predict(Val_X_Tfidf)\n",
    "    accuracy = accuracy_score(predictions_SVM, y_val)\n",
    "    f1 = f1_score(predictions_SVM, y_val, average='macro')\n",
    "    print(\"SVM Accuracy Score:\", accuracy * 100)\n",
    "    print(\"SVM:\", f1 * 100)\n",
    "    return predictions_SVM"
   ]
  },
  {
   "cell_type": "code",
   "execution_count": 57,
   "id": "a98327dc",
   "metadata": {},
   "outputs": [
    {
     "name": "stdout",
     "output_type": "stream",
     "text": [
      "SVM Accuracy Score: 72.80701754385966\n",
      "SVM: 75.45862478683715\n"
     ]
    },
    {
     "data": {
      "text/plain": [
       "array([ 6,  3,  3, ..., 16, 10,  5], dtype=int64)"
      ]
     },
     "execution_count": 57,
     "metadata": {},
     "output_type": "execute_result"
    }
   ],
   "source": [
    "training_pipeline_svm(df_train, df_val)"
   ]
  },
  {
   "cell_type": "markdown",
   "id": "ad072550",
   "metadata": {},
   "source": [
    "## XGBoost"
   ]
  },
  {
   "cell_type": "code",
   "execution_count": 39,
   "id": "2ba38794",
   "metadata": {},
   "outputs": [],
   "source": [
    "import xgboost as xgb\n",
    "\n",
    "def training_pipeline_xgb(df_train, df_val):\n",
    "    X_train = df_train['Text']\n",
    "    y_train = df_train['Category']\n",
    "    X_val = df_val['Text']\n",
    "    y_val = df_val['Category']\n",
    "    \n",
    "    X_train_tokens = [str(word_tokenize(entry)) for entry in X_train]\n",
    "    Tfidf_vect = TfidfVectorizer(max_features=5000)\n",
    "    Tfidf_vect.fit(X_train_tokens)\n",
    "    Train_X_Tfidf = Tfidf_vect.transform(X_train)\n",
    "    Val_X_Tfidf = Tfidf_vect.transform(X_val)\n",
    "    \n",
    "    xgb_model = xgb.XGBClassifier()\n",
    "    xgb_model.fit(Train_X_Tfidf, y_train)\n",
    "    \n",
    "    predictions_xgb = xgb_model.predict(Val_X_Tfidf)\n",
    "    accuracy = accuracy_score(predictions_xgb, y_val)\n",
    "    f1 = f1_score(predictions_xgb, y_val, average='macro')\n",
    "    \n",
    "    print(\"XGBoost Accuracy Score:\", accuracy * 100)\n",
    "    print(\"XGBoost F1 Score:\", f1 * 100)\n",
    "    \n",
    "    return predictions_xgb"
   ]
  },
  {
   "cell_type": "code",
   "execution_count": 40,
   "id": "0c211a80",
   "metadata": {},
   "outputs": [
    {
     "name": "stderr",
     "output_type": "stream",
     "text": [
      "C:\\Users\\Janek\\anaconda3\\lib\\site-packages\\xgboost\\sklearn.py:1146: UserWarning: The use of label encoder in XGBClassifier is deprecated and will be removed in a future release. To remove this warning, do the following: 1) Pass option use_label_encoder=False when constructing XGBClassifier object; and 2) Encode your labels (y) as integers starting with 0, i.e. 0, 1, 2, ..., [num_class - 1].\n",
      "  warnings.warn(label_encoder_deprecation_msg, UserWarning)\n"
     ]
    },
    {
     "name": "stdout",
     "output_type": "stream",
     "text": [
      "[00:14:28] WARNING: C:/Users/Administrator/workspace/xgboost-win64_release_1.4.0/src/learner.cc:1095: Starting in XGBoost 1.3.0, the default evaluation metric used with the objective 'multi:softprob' was changed from 'merror' to 'mlogloss'. Explicitly set eval_metric if you'd like to restore the old behavior.\n",
      "XGBoost Accuracy Score: 69.71375807940905\n",
      "XGBoost F1 Score: 72.44792115047309\n"
     ]
    },
    {
     "data": {
      "text/plain": [
       "array(['budget', 'file_folder', 'file_folder', ..., 'file_folder',\n",
       "       'pit37_v1', 'handwritten'], dtype=object)"
      ]
     },
     "execution_count": 40,
     "metadata": {},
     "output_type": "execute_result"
    }
   ],
   "source": [
    "training_pipeline_xgb(df_train, df_val)"
   ]
  },
  {
   "cell_type": "markdown",
   "id": "20b8f6f5",
   "metadata": {},
   "source": [
    "## LinearSVC"
   ]
  },
  {
   "cell_type": "code",
   "execution_count": 45,
   "id": "aa5d2b0d",
   "metadata": {},
   "outputs": [],
   "source": [
    "from sklearn.svm import LinearSVC\n",
    "\n",
    "def training_pipeline_linear(df_train, df_val):\n",
    "    X_train = df_train['Text']\n",
    "    y_train = df_train['Category']\n",
    "    X_val = df_val['Text']\n",
    "    y_val = df_val['Category']\n",
    "    \n",
    "    X_train_tokens = [str(word_tokenize(entry)) for entry in X_train]\n",
    "    Tfidf_vect = TfidfVectorizer(max_features=5000)\n",
    "    Tfidf_vect.fit(X_train_tokens)\n",
    "    Train_X_Tfidf = Tfidf_vect.transform(X_train)\n",
    "    Val_X_Tfidf = Tfidf_vect.transform(X_val)\n",
    "    \n",
    "    linear_model = LinearSVC()\n",
    "    linear_model.fit(Train_X_Tfidf, y_train)\n",
    "    \n",
    "    predictions_linear = linear_model.predict(Val_X_Tfidf)\n",
    "    accuracy = accuracy_score(predictions_linear, y_val)\n",
    "    f1 = f1_score(predictions_linear, y_val, average='macro')\n",
    "    \n",
    "    print(\"Linear Classifier Accuracy Score:\", accuracy * 100)\n",
    "    print(\"Linear Classifier F1 Score:\", f1 * 100)\n",
    "    \n",
    "    return predictions_linear"
   ]
  },
  {
   "cell_type": "code",
   "execution_count": 46,
   "id": "28d94def",
   "metadata": {},
   "outputs": [
    {
     "name": "stdout",
     "output_type": "stream",
     "text": [
      "Linear Classifier Accuracy Score: 71.37580794090489\n",
      "Linear Classifier F1 Score: 73.74887330222634\n"
     ]
    },
    {
     "data": {
      "text/plain": [
       "array(['invoice', 'file_folder', 'file_folder', ..., 'resume', 'pit37_v1',\n",
       "       'invoice'], dtype=object)"
      ]
     },
     "execution_count": 46,
     "metadata": {},
     "output_type": "execute_result"
    }
   ],
   "source": [
    "training_pipeline_linear(df_train, df_val)"
   ]
  },
  {
   "cell_type": "markdown",
   "id": "95b84ac5",
   "metadata": {},
   "source": [
    "## Random Forest"
   ]
  },
  {
   "cell_type": "code",
   "execution_count": 47,
   "id": "44854b80",
   "metadata": {},
   "outputs": [],
   "source": [
    "from sklearn.ensemble import RandomForestClassifier\n",
    "\n",
    "def training_pipeline_rf(df_train, df_val):\n",
    "    X_train = df_train['Text']\n",
    "    y_train = df_train['Category']\n",
    "    X_val = df_val['Text']\n",
    "    y_val = df_val['Category']\n",
    "    \n",
    "    X_train_tokens = [str(word_tokenize(entry)) for entry in X_train]\n",
    "    Tfidf_vect = TfidfVectorizer(max_features=5000)\n",
    "    Tfidf_vect.fit(X_train_tokens)\n",
    "    Train_X_Tfidf = Tfidf_vect.transform(X_train)\n",
    "    Val_X_Tfidf = Tfidf_vect.transform(X_val)\n",
    "    \n",
    "    rf_model = RandomForestClassifier()\n",
    "    rf_model.fit(Train_X_Tfidf, y_train)\n",
    "    \n",
    "    predictions_rf = rf_model.predict(Val_X_Tfidf)\n",
    "    accuracy = accuracy_score(predictions_rf, y_val)\n",
    "    f1 = f1_score(predictions_rf, y_val, average='macro')\n",
    "    \n",
    "    print(\"Random Forest Accuracy Score:\", accuracy * 100)\n",
    "    print(\"Random Forest F1 Score:\", f1 * 100)\n",
    "    \n",
    "    return predictions_rf"
   ]
  },
  {
   "cell_type": "code",
   "execution_count": 48,
   "id": "1e2408e2",
   "metadata": {},
   "outputs": [
    {
     "name": "stdout",
     "output_type": "stream",
     "text": [
      "Random Forest Accuracy Score: 69.80609418282549\n",
      "Random Forest F1 Score: 72.44596602375542\n"
     ]
    },
    {
     "data": {
      "text/plain": [
       "array(['form', 'file_folder', 'file_folder', ..., 'resume', 'pit37_v1',\n",
       "       'budget'], dtype=object)"
      ]
     },
     "execution_count": 48,
     "metadata": {},
     "output_type": "execute_result"
    }
   ],
   "source": [
    "training_pipeline_rf(df_train, df_val)"
   ]
  }
 ],
 "metadata": {
  "kernelspec": {
   "display_name": "Python 3 (ipykernel)",
   "language": "python",
   "name": "python3"
  },
  "language_info": {
   "codemirror_mode": {
    "name": "ipython",
    "version": 3
   },
   "file_extension": ".py",
   "mimetype": "text/x-python",
   "name": "python",
   "nbconvert_exporter": "python",
   "pygments_lexer": "ipython3",
   "version": "3.9.7"
  }
 },
 "nbformat": 4,
 "nbformat_minor": 5
}
