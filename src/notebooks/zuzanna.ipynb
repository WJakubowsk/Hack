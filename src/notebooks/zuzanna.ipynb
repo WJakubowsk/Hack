{
 "cells": [
  {
   "cell_type": "code",
   "execution_count": 1,
   "metadata": {},
   "outputs": [],
   "source": [
    "import pandas as pd"
   ]
  },
  {
   "cell_type": "code",
   "execution_count": 8,
   "metadata": {},
   "outputs": [],
   "source": [
    "df_train_set_ocr = pd.read_json('../data/hackathon/train_set_ocr.json', typ='series')"
   ]
  },
  {
   "cell_type": "code",
   "execution_count": 9,
   "metadata": {},
   "outputs": [
    {
     "data": {
      "text/plain": [
       "test_hashed\\pit37_v1\\9d6f61c6-52ad-4546-85b7-b6a0a30a21d5.jpg    POLA Lalwe poda PODATNIK POLA , CIEMNE _ URZAD...\n",
       "test_hashed\\pit37_v1\\f14ea197-70bd-45ae-9a22-d243f37f6c26.jpg    PlTaxpl POUA 'WYPELNIA PODATNIK POLA CIEMNE WY...\n",
       "test_hashed\\pit37_v1\\070a521a-7038-4551-bc6a-bbb6f96e1505.jpg    MyPfenl Wypelnic DulyMi DaukowanlUiTERAM ClRnY...\n",
       "test_hashed\\pit37_v1\\f4d15b30-6e96-4452-b614-a986065d6a80.jpg    PlTaxpl POLA JASNE WYPEŁNIA PODATNIK _POLA CIE...\n",
       "test_hashed\\pit37_v1\\64d085a8-39a0-4887-859e-811a3de9879b.jpg    PITaxpl LA Jash€ WyPelNIA PODiTŃIK PCU CieMne ...\n",
       "dtype: object"
      ]
     },
     "execution_count": 9,
     "metadata": {},
     "output_type": "execute_result"
    }
   ],
   "source": [
    "df_train_set_ocr.head()"
   ]
  }
 ],
 "metadata": {
  "kernelspec": {
   "display_name": "base",
   "language": "python",
   "name": "python3"
  },
  "language_info": {
   "codemirror_mode": {
    "name": "ipython",
    "version": 3
   },
   "file_extension": ".py",
   "mimetype": "text/x-python",
   "name": "python",
   "nbconvert_exporter": "python",
   "pygments_lexer": "ipython3",
   "version": "3.8.3"
  },
  "orig_nbformat": 4
 },
 "nbformat": 4,
 "nbformat_minor": 2
}
