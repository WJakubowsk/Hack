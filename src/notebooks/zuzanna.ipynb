{
 "cells": [
  {
   "cell_type": "code",
   "execution_count": 2,
   "metadata": {},
   "outputs": [],
   "source": [
    "import pandas as pd"
   ]
  },
  {
   "cell_type": "code",
   "execution_count": 4,
   "metadata": {},
   "outputs": [],
   "source": [
    "df_train_set_ocr = pd.read_json('../../data/hackathon/train_set_ocr.json', typ='series')"
   ]
  },
  {
   "cell_type": "code",
   "execution_count": 5,
   "metadata": {},
   "outputs": [
    {
     "data": {
      "text/plain": [
       "test_hashed\\pit37_v1\\9d6f61c6-52ad-4546-85b7-b6a0a30a21d5.jpg    POLA Lalwe poda PODATNIK POLA , CIEMNE _ URZAD...\n",
       "test_hashed\\pit37_v1\\f14ea197-70bd-45ae-9a22-d243f37f6c26.jpg    PlTaxpl POUA 'WYPELNIA PODATNIK POLA CIEMNE WY...\n",
       "test_hashed\\pit37_v1\\070a521a-7038-4551-bc6a-bbb6f96e1505.jpg    MyPfenl Wypelnic DulyMi DaukowanlUiTERAM ClRnY...\n",
       "test_hashed\\pit37_v1\\f4d15b30-6e96-4452-b614-a986065d6a80.jpg    PlTaxpl POLA JASNE WYPEŁNIA PODATNIK _POLA CIE...\n",
       "test_hashed\\pit37_v1\\64d085a8-39a0-4887-859e-811a3de9879b.jpg    PITaxpl LA Jash€ WyPelNIA PODiTŃIK PCU CieMne ...\n",
       "dtype: object"
      ]
     },
     "execution_count": 5,
     "metadata": {},
     "output_type": "execute_result"
    }
   ],
   "source": [
    "df_train_set_ocr.head()"
   ]
  },
  {
   "cell_type": "code",
   "execution_count": 11,
   "metadata": {},
   "outputs": [],
   "source": [
    "df_train_set_ocr = df_train_set_ocr.reset_index()"
   ]
  },
  {
   "cell_type": "code",
   "execution_count": 12,
   "metadata": {},
   "outputs": [
    {
     "data": {
      "text/html": [
       "<div>\n",
       "<style scoped>\n",
       "    .dataframe tbody tr th:only-of-type {\n",
       "        vertical-align: middle;\n",
       "    }\n",
       "\n",
       "    .dataframe tbody tr th {\n",
       "        vertical-align: top;\n",
       "    }\n",
       "\n",
       "    .dataframe thead th {\n",
       "        text-align: right;\n",
       "    }\n",
       "</style>\n",
       "<table border=\"1\" class=\"dataframe\">\n",
       "  <thead>\n",
       "    <tr style=\"text-align: right;\">\n",
       "      <th></th>\n",
       "      <th>index</th>\n",
       "      <th>0</th>\n",
       "    </tr>\n",
       "  </thead>\n",
       "  <tbody>\n",
       "    <tr>\n",
       "      <th>0</th>\n",
       "      <td>test_hashed\\pit37_v1\\9d6f61c6-52ad-4546-85b7-b...</td>\n",
       "      <td>POLA Lalwe poda PODATNIK POLA , CIEMNE _ URZAD...</td>\n",
       "    </tr>\n",
       "    <tr>\n",
       "      <th>1</th>\n",
       "      <td>test_hashed\\pit37_v1\\f14ea197-70bd-45ae-9a22-d...</td>\n",
       "      <td>PlTaxpl POUA 'WYPELNIA PODATNIK POLA CIEMNE WY...</td>\n",
       "    </tr>\n",
       "    <tr>\n",
       "      <th>2</th>\n",
       "      <td>test_hashed\\pit37_v1\\070a521a-7038-4551-bc6a-b...</td>\n",
       "      <td>MyPfenl Wypelnic DulyMi DaukowanlUiTERAM ClRnY...</td>\n",
       "    </tr>\n",
       "    <tr>\n",
       "      <th>3</th>\n",
       "      <td>test_hashed\\pit37_v1\\f4d15b30-6e96-4452-b614-a...</td>\n",
       "      <td>PlTaxpl POLA JASNE WYPEŁNIA PODATNIK _POLA CIE...</td>\n",
       "    </tr>\n",
       "    <tr>\n",
       "      <th>4</th>\n",
       "      <td>test_hashed\\pit37_v1\\64d085a8-39a0-4887-859e-8...</td>\n",
       "      <td>PITaxpl LA Jash€ WyPelNIA PODiTŃIK PCU CieMne ...</td>\n",
       "    </tr>\n",
       "  </tbody>\n",
       "</table>\n",
       "</div>"
      ],
      "text/plain": [
       "                                               index  \\\n",
       "0  test_hashed\\pit37_v1\\9d6f61c6-52ad-4546-85b7-b...   \n",
       "1  test_hashed\\pit37_v1\\f14ea197-70bd-45ae-9a22-d...   \n",
       "2  test_hashed\\pit37_v1\\070a521a-7038-4551-bc6a-b...   \n",
       "3  test_hashed\\pit37_v1\\f4d15b30-6e96-4452-b614-a...   \n",
       "4  test_hashed\\pit37_v1\\64d085a8-39a0-4887-859e-8...   \n",
       "\n",
       "                                                   0  \n",
       "0  POLA Lalwe poda PODATNIK POLA , CIEMNE _ URZAD...  \n",
       "1  PlTaxpl POUA 'WYPELNIA PODATNIK POLA CIEMNE WY...  \n",
       "2  MyPfenl Wypelnic DulyMi DaukowanlUiTERAM ClRnY...  \n",
       "3  PlTaxpl POLA JASNE WYPEŁNIA PODATNIK _POLA CIE...  \n",
       "4  PITaxpl LA Jash€ WyPelNIA PODiTŃIK PCU CieMne ...  "
      ]
     },
     "execution_count": 12,
     "metadata": {},
     "output_type": "execute_result"
    }
   ],
   "source": [
    "df_train_set_ocr.head()"
   ]
  },
  {
   "cell_type": "code",
   "execution_count": 15,
   "metadata": {},
   "outputs": [],
   "source": [
    "df_train_set_ocr.rename(columns={'index': 'file', 0: 'text'}, inplace=True)"
   ]
  },
  {
   "cell_type": "code",
   "execution_count": 16,
   "metadata": {},
   "outputs": [
    {
     "data": {
      "text/html": [
       "<div>\n",
       "<style scoped>\n",
       "    .dataframe tbody tr th:only-of-type {\n",
       "        vertical-align: middle;\n",
       "    }\n",
       "\n",
       "    .dataframe tbody tr th {\n",
       "        vertical-align: top;\n",
       "    }\n",
       "\n",
       "    .dataframe thead th {\n",
       "        text-align: right;\n",
       "    }\n",
       "</style>\n",
       "<table border=\"1\" class=\"dataframe\">\n",
       "  <thead>\n",
       "    <tr style=\"text-align: right;\">\n",
       "      <th></th>\n",
       "      <th>file</th>\n",
       "      <th>text</th>\n",
       "    </tr>\n",
       "  </thead>\n",
       "  <tbody>\n",
       "    <tr>\n",
       "      <th>0</th>\n",
       "      <td>test_hashed\\pit37_v1\\9d6f61c6-52ad-4546-85b7-b...</td>\n",
       "      <td>POLA Lalwe poda PODATNIK POLA , CIEMNE _ URZAD...</td>\n",
       "    </tr>\n",
       "    <tr>\n",
       "      <th>1</th>\n",
       "      <td>test_hashed\\pit37_v1\\f14ea197-70bd-45ae-9a22-d...</td>\n",
       "      <td>PlTaxpl POUA 'WYPELNIA PODATNIK POLA CIEMNE WY...</td>\n",
       "    </tr>\n",
       "    <tr>\n",
       "      <th>2</th>\n",
       "      <td>test_hashed\\pit37_v1\\070a521a-7038-4551-bc6a-b...</td>\n",
       "      <td>MyPfenl Wypelnic DulyMi DaukowanlUiTERAM ClRnY...</td>\n",
       "    </tr>\n",
       "    <tr>\n",
       "      <th>3</th>\n",
       "      <td>test_hashed\\pit37_v1\\f4d15b30-6e96-4452-b614-a...</td>\n",
       "      <td>PlTaxpl POLA JASNE WYPEŁNIA PODATNIK _POLA CIE...</td>\n",
       "    </tr>\n",
       "    <tr>\n",
       "      <th>4</th>\n",
       "      <td>test_hashed\\pit37_v1\\64d085a8-39a0-4887-859e-8...</td>\n",
       "      <td>PITaxpl LA Jash€ WyPelNIA PODiTŃIK PCU CieMne ...</td>\n",
       "    </tr>\n",
       "  </tbody>\n",
       "</table>\n",
       "</div>"
      ],
      "text/plain": [
       "                                                file  \\\n",
       "0  test_hashed\\pit37_v1\\9d6f61c6-52ad-4546-85b7-b...   \n",
       "1  test_hashed\\pit37_v1\\f14ea197-70bd-45ae-9a22-d...   \n",
       "2  test_hashed\\pit37_v1\\070a521a-7038-4551-bc6a-b...   \n",
       "3  test_hashed\\pit37_v1\\f4d15b30-6e96-4452-b614-a...   \n",
       "4  test_hashed\\pit37_v1\\64d085a8-39a0-4887-859e-8...   \n",
       "\n",
       "                                                text  \n",
       "0  POLA Lalwe poda PODATNIK POLA , CIEMNE _ URZAD...  \n",
       "1  PlTaxpl POUA 'WYPELNIA PODATNIK POLA CIEMNE WY...  \n",
       "2  MyPfenl Wypelnic DulyMi DaukowanlUiTERAM ClRnY...  \n",
       "3  PlTaxpl POLA JASNE WYPEŁNIA PODATNIK _POLA CIE...  \n",
       "4  PITaxpl LA Jash€ WyPelNIA PODiTŃIK PCU CieMne ...  "
      ]
     },
     "execution_count": 16,
     "metadata": {},
     "output_type": "execute_result"
    }
   ],
   "source": [
    "df_train_set_ocr.head()"
   ]
  },
  {
   "cell_type": "code",
   "execution_count": 17,
   "metadata": {},
   "outputs": [],
   "source": [
    "df_train_labels_final = pd.read_json('../../data/hackathon/train_labels_final.json', typ='series')"
   ]
  },
  {
   "cell_type": "code",
   "execution_count": 18,
   "metadata": {},
   "outputs": [],
   "source": [
    "df_train_labels_final = df_train_labels_final.reset_index()"
   ]
  },
  {
   "cell_type": "code",
   "execution_count": 19,
   "metadata": {},
   "outputs": [
    {
     "data": {
      "text/html": [
       "<div>\n",
       "<style scoped>\n",
       "    .dataframe tbody tr th:only-of-type {\n",
       "        vertical-align: middle;\n",
       "    }\n",
       "\n",
       "    .dataframe tbody tr th {\n",
       "        vertical-align: top;\n",
       "    }\n",
       "\n",
       "    .dataframe thead th {\n",
       "        text-align: right;\n",
       "    }\n",
       "</style>\n",
       "<table border=\"1\" class=\"dataframe\">\n",
       "  <thead>\n",
       "    <tr style=\"text-align: right;\">\n",
       "      <th></th>\n",
       "      <th>index</th>\n",
       "      <th>0</th>\n",
       "    </tr>\n",
       "  </thead>\n",
       "  <tbody>\n",
       "    <tr>\n",
       "      <th>0</th>\n",
       "      <td>test_hashed\\pit37_v1\\9d6f61c6-52ad-4546-85b7-b...</td>\n",
       "      <td>pit37_v1</td>\n",
       "    </tr>\n",
       "    <tr>\n",
       "      <th>1</th>\n",
       "      <td>test_hashed\\pit37_v1\\f14ea197-70bd-45ae-9a22-d...</td>\n",
       "      <td>pit37_v1</td>\n",
       "    </tr>\n",
       "    <tr>\n",
       "      <th>2</th>\n",
       "      <td>test_hashed\\pit37_v1\\070a521a-7038-4551-bc6a-b...</td>\n",
       "      <td>pit37_v1</td>\n",
       "    </tr>\n",
       "    <tr>\n",
       "      <th>3</th>\n",
       "      <td>test_hashed\\pit37_v1\\f4d15b30-6e96-4452-b614-a...</td>\n",
       "      <td>pit37_v1</td>\n",
       "    </tr>\n",
       "    <tr>\n",
       "      <th>4</th>\n",
       "      <td>test_hashed\\pit37_v1\\64d085a8-39a0-4887-859e-8...</td>\n",
       "      <td>pit37_v1</td>\n",
       "    </tr>\n",
       "  </tbody>\n",
       "</table>\n",
       "</div>"
      ],
      "text/plain": [
       "                                               index         0\n",
       "0  test_hashed\\pit37_v1\\9d6f61c6-52ad-4546-85b7-b...  pit37_v1\n",
       "1  test_hashed\\pit37_v1\\f14ea197-70bd-45ae-9a22-d...  pit37_v1\n",
       "2  test_hashed\\pit37_v1\\070a521a-7038-4551-bc6a-b...  pit37_v1\n",
       "3  test_hashed\\pit37_v1\\f4d15b30-6e96-4452-b614-a...  pit37_v1\n",
       "4  test_hashed\\pit37_v1\\64d085a8-39a0-4887-859e-8...  pit37_v1"
      ]
     },
     "execution_count": 19,
     "metadata": {},
     "output_type": "execute_result"
    }
   ],
   "source": [
    "df_train_labels_final.head()"
   ]
  },
  {
   "cell_type": "code",
   "execution_count": 20,
   "metadata": {},
   "outputs": [],
   "source": [
    "df_train_labels_final.rename(columns={'index': 'file', 0: 'label'}, inplace=True)"
   ]
  },
  {
   "cell_type": "code",
   "execution_count": 21,
   "metadata": {},
   "outputs": [
    {
     "data": {
      "text/html": [
       "<div>\n",
       "<style scoped>\n",
       "    .dataframe tbody tr th:only-of-type {\n",
       "        vertical-align: middle;\n",
       "    }\n",
       "\n",
       "    .dataframe tbody tr th {\n",
       "        vertical-align: top;\n",
       "    }\n",
       "\n",
       "    .dataframe thead th {\n",
       "        text-align: right;\n",
       "    }\n",
       "</style>\n",
       "<table border=\"1\" class=\"dataframe\">\n",
       "  <thead>\n",
       "    <tr style=\"text-align: right;\">\n",
       "      <th></th>\n",
       "      <th>file</th>\n",
       "      <th>text</th>\n",
       "      <th>label</th>\n",
       "    </tr>\n",
       "  </thead>\n",
       "  <tbody>\n",
       "    <tr>\n",
       "      <th>0</th>\n",
       "      <td>test_hashed\\pit37_v1\\9d6f61c6-52ad-4546-85b7-b...</td>\n",
       "      <td>POLA Lalwe poda PODATNIK POLA , CIEMNE _ URZAD...</td>\n",
       "      <td>pit37_v1</td>\n",
       "    </tr>\n",
       "    <tr>\n",
       "      <th>1</th>\n",
       "      <td>test_hashed\\pit37_v1\\f14ea197-70bd-45ae-9a22-d...</td>\n",
       "      <td>PlTaxpl POUA 'WYPELNIA PODATNIK POLA CIEMNE WY...</td>\n",
       "      <td>pit37_v1</td>\n",
       "    </tr>\n",
       "    <tr>\n",
       "      <th>2</th>\n",
       "      <td>test_hashed\\pit37_v1\\070a521a-7038-4551-bc6a-b...</td>\n",
       "      <td>MyPfenl Wypelnic DulyMi DaukowanlUiTERAM ClRnY...</td>\n",
       "      <td>pit37_v1</td>\n",
       "    </tr>\n",
       "    <tr>\n",
       "      <th>3</th>\n",
       "      <td>test_hashed\\pit37_v1\\f4d15b30-6e96-4452-b614-a...</td>\n",
       "      <td>PlTaxpl POLA JASNE WYPEŁNIA PODATNIK _POLA CIE...</td>\n",
       "      <td>pit37_v1</td>\n",
       "    </tr>\n",
       "    <tr>\n",
       "      <th>4</th>\n",
       "      <td>test_hashed\\pit37_v1\\64d085a8-39a0-4887-859e-8...</td>\n",
       "      <td>PITaxpl LA Jash€ WyPelNIA PODiTŃIK PCU CieMne ...</td>\n",
       "      <td>pit37_v1</td>\n",
       "    </tr>\n",
       "    <tr>\n",
       "      <th>...</th>\n",
       "      <td>...</td>\n",
       "      <td>...</td>\n",
       "      <td>...</td>\n",
       "    </tr>\n",
       "    <tr>\n",
       "      <th>10879</th>\n",
       "      <td>./test_hashed/specification/8a1bb716-156c-4eca...</td>\n",
       "      <td>MSDS 002z4 Ello ~arte-Vewaa @WEre Hkc hm2 \"7c0...</td>\n",
       "      <td>specification</td>\n",
       "    </tr>\n",
       "    <tr>\n",
       "      <th>10880</th>\n",
       "      <td>./test_hashed/specification/e42169d6-f1c4-416a...</td>\n",
       "      <td>June 1992 40 03-540 Appearance: Colorless, cle...</td>\n",
       "      <td>specification</td>\n",
       "    </tr>\n",
       "    <tr>\n",
       "      <th>10881</th>\n",
       "      <td>./test_hashed/form/9807fe93-30d5-422b-8844-fd1...</td>\n",
       "      <td>PULL MAILFILE REQUEST TO: Bagby RJR-10301 July...</td>\n",
       "      <td>form</td>\n",
       "    </tr>\n",
       "    <tr>\n",
       "      <th>10882</th>\n",
       "      <td>./test_hashed/handwritten/e7eac2d5-364d-4f82-b...</td>\n",
       "      <td>~Tclecen 8/23/38 SAJ Co z &amp; RH cam bt meaured ...</td>\n",
       "      <td>handwritten</td>\n",
       "    </tr>\n",
       "    <tr>\n",
       "      <th>10883</th>\n",
       "      <td>./test_hashed/advertisement/143d2d22-378e-4595...</td>\n",
       "      <td>oy Stat Ed8 Mey Fot Postu Firtt LICd- ncicc 41...</td>\n",
       "      <td>advertisement</td>\n",
       "    </tr>\n",
       "  </tbody>\n",
       "</table>\n",
       "<p>10884 rows × 3 columns</p>\n",
       "</div>"
      ],
      "text/plain": [
       "                                                    file  \\\n",
       "0      test_hashed\\pit37_v1\\9d6f61c6-52ad-4546-85b7-b...   \n",
       "1      test_hashed\\pit37_v1\\f14ea197-70bd-45ae-9a22-d...   \n",
       "2      test_hashed\\pit37_v1\\070a521a-7038-4551-bc6a-b...   \n",
       "3      test_hashed\\pit37_v1\\f4d15b30-6e96-4452-b614-a...   \n",
       "4      test_hashed\\pit37_v1\\64d085a8-39a0-4887-859e-8...   \n",
       "...                                                  ...   \n",
       "10879  ./test_hashed/specification/8a1bb716-156c-4eca...   \n",
       "10880  ./test_hashed/specification/e42169d6-f1c4-416a...   \n",
       "10881  ./test_hashed/form/9807fe93-30d5-422b-8844-fd1...   \n",
       "10882  ./test_hashed/handwritten/e7eac2d5-364d-4f82-b...   \n",
       "10883  ./test_hashed/advertisement/143d2d22-378e-4595...   \n",
       "\n",
       "                                                    text          label  \n",
       "0      POLA Lalwe poda PODATNIK POLA , CIEMNE _ URZAD...       pit37_v1  \n",
       "1      PlTaxpl POUA 'WYPELNIA PODATNIK POLA CIEMNE WY...       pit37_v1  \n",
       "2      MyPfenl Wypelnic DulyMi DaukowanlUiTERAM ClRnY...       pit37_v1  \n",
       "3      PlTaxpl POLA JASNE WYPEŁNIA PODATNIK _POLA CIE...       pit37_v1  \n",
       "4      PITaxpl LA Jash€ WyPelNIA PODiTŃIK PCU CieMne ...       pit37_v1  \n",
       "...                                                  ...            ...  \n",
       "10879  MSDS 002z4 Ello ~arte-Vewaa @WEre Hkc hm2 \"7c0...  specification  \n",
       "10880  June 1992 40 03-540 Appearance: Colorless, cle...  specification  \n",
       "10881  PULL MAILFILE REQUEST TO: Bagby RJR-10301 July...           form  \n",
       "10882  ~Tclecen 8/23/38 SAJ Co z & RH cam bt meaured ...    handwritten  \n",
       "10883  oy Stat Ed8 Mey Fot Postu Firtt LICd- ncicc 41...  advertisement  \n",
       "\n",
       "[10884 rows x 3 columns]"
      ]
     },
     "execution_count": 21,
     "metadata": {},
     "output_type": "execute_result"
    }
   ],
   "source": [
    "pd.merge(df_train_set_ocr, df_train_labels_final, on='file', how='outer')"
   ]
  }
 ],
 "metadata": {
  "kernelspec": {
   "display_name": "base",
   "language": "python",
   "name": "python3"
  },
  "language_info": {
   "codemirror_mode": {
    "name": "ipython",
    "version": 3
   },
   "file_extension": ".py",
   "mimetype": "text/x-python",
   "name": "python",
   "nbconvert_exporter": "python",
   "pygments_lexer": "ipython3",
   "version": "3.8.3"
  },
  "orig_nbformat": 4
 },
 "nbformat": 4,
 "nbformat_minor": 2
}
