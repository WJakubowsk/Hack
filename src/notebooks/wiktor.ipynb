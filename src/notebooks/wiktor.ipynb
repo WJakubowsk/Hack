{
 "cells": [
  {
   "cell_type": "code",
   "execution_count": 83,
   "metadata": {},
   "outputs": [],
   "source": [
    "import sys\n",
    "sys.path.append('..')\n",
    "import numpy as np\n",
    "import pandas as pd\n",
    "import preprocessing.preprocessor\n",
    "import importlib\n",
    "importlib.reload(preprocessing.preprocessor)\n",
    "from preprocessing.preprocessor import Preprocessor"
   ]
  },
  {
   "cell_type": "code",
   "execution_count": 119,
   "metadata": {},
   "outputs": [],
   "source": [
    "series_train_set_ocr = pd.read_json('../../data/hackathon/train_set_ocr.json', typ='series')"
   ]
  },
  {
   "cell_type": "code",
   "execution_count": 120,
   "metadata": {},
   "outputs": [],
   "source": [
    "df_train = series_train_set_ocr.reset_index()\n",
    "df_train.rename(columns={'index': 'file', 0: 'text'}, inplace=True)"
   ]
  },
  {
   "cell_type": "code",
   "execution_count": 86,
   "metadata": {},
   "outputs": [],
   "source": [
    "preprocessor = Preprocessor(df_train)"
   ]
  },
  {
   "cell_type": "code",
   "execution_count": 87,
   "metadata": {},
   "outputs": [],
   "source": [
    "preprocessor.preprocess_text('text')"
   ]
  },
  {
   "cell_type": "code",
   "execution_count": 88,
   "metadata": {},
   "outputs": [
    {
     "data": {
      "text/html": [
       "<div>\n",
       "<style scoped>\n",
       "    .dataframe tbody tr th:only-of-type {\n",
       "        vertical-align: middle;\n",
       "    }\n",
       "\n",
       "    .dataframe tbody tr th {\n",
       "        vertical-align: top;\n",
       "    }\n",
       "\n",
       "    .dataframe thead th {\n",
       "        text-align: right;\n",
       "    }\n",
       "</style>\n",
       "<table border=\"1\" class=\"dataframe\">\n",
       "  <thead>\n",
       "    <tr style=\"text-align: right;\">\n",
       "      <th></th>\n",
       "      <th>file</th>\n",
       "      <th>text</th>\n",
       "    </tr>\n",
       "  </thead>\n",
       "  <tbody>\n",
       "    <tr>\n",
       "      <th>0</th>\n",
       "      <td>test_hashed\\pit37_v1\\9d6f61c6-52ad-4546-85b7-b...</td>\n",
       "      <td>pola lalwe poda podatnik pola , ciemne _ urzad...</td>\n",
       "    </tr>\n",
       "    <tr>\n",
       "      <th>1</th>\n",
       "      <td>test_hashed\\pit37_v1\\f14ea197-70bd-45ae-9a22-d...</td>\n",
       "      <td>pltaxpl poua 'wypelnia podatnik pola ciemne wy...</td>\n",
       "    </tr>\n",
       "    <tr>\n",
       "      <th>2</th>\n",
       "      <td>test_hashed\\pit37_v1\\070a521a-7038-4551-bc6a-b...</td>\n",
       "      <td>mypfenl wypelnic dulymi daukowanluiteram clrny...</td>\n",
       "    </tr>\n",
       "    <tr>\n",
       "      <th>3</th>\n",
       "      <td>test_hashed\\pit37_v1\\f4d15b30-6e96-4452-b614-a...</td>\n",
       "      <td>pltaxpl pola jasne wypełnia podatnik _pola cie...</td>\n",
       "    </tr>\n",
       "    <tr>\n",
       "      <th>4</th>\n",
       "      <td>test_hashed\\pit37_v1\\64d085a8-39a0-4887-859e-8...</td>\n",
       "      <td>pitaxpl la jash€ wypelnia poditńik pcu ciemne ...</td>\n",
       "    </tr>\n",
       "    <tr>\n",
       "      <th>...</th>\n",
       "      <td>...</td>\n",
       "      <td>...</td>\n",
       "    </tr>\n",
       "    <tr>\n",
       "      <th>10879</th>\n",
       "      <td>./test_hashed/specification/8a1bb716-156c-4eca...</td>\n",
       "      <td>msds 002z4 ello ~arte-vewaa @were hkc hm2 \"7c0...</td>\n",
       "    </tr>\n",
       "    <tr>\n",
       "      <th>10880</th>\n",
       "      <td>./test_hashed/specification/e42169d6-f1c4-416a...</td>\n",
       "      <td>june 1992 40 03-540 appearance: colorless, cle...</td>\n",
       "    </tr>\n",
       "    <tr>\n",
       "      <th>10881</th>\n",
       "      <td>./test_hashed/form/9807fe93-30d5-422b-8844-fd1...</td>\n",
       "      <td>pull mailfile request to: bagby rjr-10301 july...</td>\n",
       "    </tr>\n",
       "    <tr>\n",
       "      <th>10882</th>\n",
       "      <td>./test_hashed/handwritten/e7eac2d5-364d-4f82-b...</td>\n",
       "      <td>~tclecen 8/23/38 saj co z &amp; rh cam bt meaured ...</td>\n",
       "    </tr>\n",
       "    <tr>\n",
       "      <th>10883</th>\n",
       "      <td>./test_hashed/advertisement/143d2d22-378e-4595...</td>\n",
       "      <td>oy stat ed8 mey fot postu firtt licd- ncicc 41...</td>\n",
       "    </tr>\n",
       "  </tbody>\n",
       "</table>\n",
       "<p>10884 rows × 2 columns</p>\n",
       "</div>"
      ],
      "text/plain": [
       "                                                    file  \\\n",
       "0      test_hashed\\pit37_v1\\9d6f61c6-52ad-4546-85b7-b...   \n",
       "1      test_hashed\\pit37_v1\\f14ea197-70bd-45ae-9a22-d...   \n",
       "2      test_hashed\\pit37_v1\\070a521a-7038-4551-bc6a-b...   \n",
       "3      test_hashed\\pit37_v1\\f4d15b30-6e96-4452-b614-a...   \n",
       "4      test_hashed\\pit37_v1\\64d085a8-39a0-4887-859e-8...   \n",
       "...                                                  ...   \n",
       "10879  ./test_hashed/specification/8a1bb716-156c-4eca...   \n",
       "10880  ./test_hashed/specification/e42169d6-f1c4-416a...   \n",
       "10881  ./test_hashed/form/9807fe93-30d5-422b-8844-fd1...   \n",
       "10882  ./test_hashed/handwritten/e7eac2d5-364d-4f82-b...   \n",
       "10883  ./test_hashed/advertisement/143d2d22-378e-4595...   \n",
       "\n",
       "                                                    text  \n",
       "0      pola lalwe poda podatnik pola , ciemne _ urzad...  \n",
       "1      pltaxpl poua 'wypelnia podatnik pola ciemne wy...  \n",
       "2      mypfenl wypelnic dulymi daukowanluiteram clrny...  \n",
       "3      pltaxpl pola jasne wypełnia podatnik _pola cie...  \n",
       "4      pitaxpl la jash€ wypelnia poditńik pcu ciemne ...  \n",
       "...                                                  ...  \n",
       "10879  msds 002z4 ello ~arte-vewaa @were hkc hm2 \"7c0...  \n",
       "10880  june 1992 40 03-540 appearance: colorless, cle...  \n",
       "10881  pull mailfile request to: bagby rjr-10301 july...  \n",
       "10882  ~tclecen 8/23/38 saj co z & rh cam bt meaured ...  \n",
       "10883  oy stat ed8 mey fot postu firtt licd- ncicc 41...  \n",
       "\n",
       "[10884 rows x 2 columns]"
      ]
     },
     "execution_count": 88,
     "metadata": {},
     "output_type": "execute_result"
    }
   ],
   "source": [
    "preprocessor.df"
   ]
  },
  {
   "cell_type": "code",
   "execution_count": 100,
   "metadata": {},
   "outputs": [
    {
     "data": {
      "text/plain": [
       "'en'"
      ]
     },
     "execution_count": 100,
     "metadata": {},
     "output_type": "execute_result"
    }
   ],
   "source": [
    "from langdetect import detect\n",
    "detect(df_train.iloc[3495]['text'])"
   ]
  },
  {
   "cell_type": "code",
   "execution_count": 101,
   "metadata": {},
   "outputs": [
    {
     "data": {
      "text/plain": [
       "'nav 03 03: [iam rhilip mrris [ra hk 85228263807 p.213 61 - ture conn 199541.237-219 tobacco control n inteanattonal u a na l editorials the ncws on tobacco control: time to bring the background into the foreground ainst baceroundnfdecllobur iobicco ue2ud rencr ecintionkfarerimple huranuentk incon atered 047 jb7 poncyc cbini cdt ect dilcait tisk [ac02. 1c? qoo aoektn 1e2*purtt clpicn tobacco bucs bom tucmadc muldzie gy l;cren 15999 _mdio teletbiod vuucb ljcte fan_or prevengnt heurubeaie acludddi ell9c erneninc ciele trc_tifoui rcuictcn [norouc inicvcnhon hdldas 1dccd hundrd lhousinda dotg_ suc lncmecantad gudfc rkf1ctoh onl\\' nledotubsa livc fportars clly dlunmed commntd wu thc talucdoni di0 #cn ccjuo rcupi n-o cphemen: 40m: the mom5 polene 1n0 fundiod lagteaetlun ptani iepont err tocad eo10d2 lktort fobaeco edmd ohncome te mijor lul-gmunil mdohnk cl  portful dt4ac-gmic tcltuulen collmcntrty_ looz comun jimx meda 2g drolonzco cpjode preaddencbl can lidjc: bob amokne compicd dficai comnun belo dolc > fo-n-tnouth cler lobacco pol-d enay ec prorotian initibirs fhich opcnte tobtn buded, 6o4t4ejflr] euc} oluct: llcrycabony uere jrc icle 1couthj #ee uconccconmolen onz jec rehl eaumotthy huncco h cl cnjuco tcotnett 387 o  boat p1gc 0f dc sydo mornirf pronouoni dhclec tobiccs nalne4 htk erked jer oechehecor oftae; tabiccn fvounble imarovement thegcller urd for nsk fac- honci rntco [ecoro thoic lbauz heiky lemita [on 4le kollde 1d6 drucren4n cuqlmunajon fror lourpalist peroccbye nobicco conudlalearich codital arout cdetnecean carcd putovc €p1 pichno ioranan orten ccnon gdton nad onl4f+ lcl dinleccc bearccninrervendo ind nodjopi of neenrorthinez out #cc tetendcnt 4in codetc er0u7, medi elaint worei confcy comuodan_ dlitri feenmeannartento- uoccocolzbl deaned tompocjbl? doubuoi bahoz eeendci fucnlicn t medk dlicd @ely 1626 ealled invottce nou cotnjcc apeuc ocroban le bcoy ullaedbr (oba weund lrecnouni s4 ind oll1o tonicco eiatortecior 6lt ~ndymelo numef- cxoericn xl populatcnx hotever k l tnyopic aatuale crcuone juneinenad riton udannnut tr #j anly discret cfru orckettraicd by hcibb hen- choru qun or criodu diccted prchc iniuenceolte into cnon4rc* thlih clccle (uaunc yountneancart dowrcunc njwt gluzd {u[c lc fololc forcalfentlkpold cegu oend fnbncan aneal= djddr uiquc pc widtt population. cofnd gpicim,the [obicco epidcmic hat gencrtred trceniets nlanto curhr uelanc tkaed cotiemic keteano ucn shid cnrre hi fnnt chlloupb ollcd jr morc nabon 26n moii. thc mcdil > ffpctitt for vilktins frd  botrri- deler-deju quanuncbob (doleso eobual shagqalled tha forol of tkt [obicco udustr% #hich hnoul dolcl pmoc cc4lh10 ntngtttdo lnuttlic ercont hothaco bde olc ei crlurron tgc4tc oltcn iccomnariedby device %r fefetenacg etha rneannd olch euil iczounu &f tbe polg and urchrtobon t taene 04 tobacco [zuldx 7d uazouiblc ioci liumeo cjuane jncton licht ieemt lcly urucilted wih copn duumiort porenutlly proo ony chaze in lzredtd\"they aitldo t1nalc tofacen cceto tatrercntdrer tunrnmhe [3i thc furtcr dc elonmcnt tlce olindccr mocl- bd lmttuian datolucat ct laezl tadntene wcraoent ec 6lrobiczo cnroloolderand wutaiel crptcea ethial behtvolc dln3i thcy j0 cotcd [bc bnportancc o  quntife luea4y cahaor ecneriink uclucl fecunting for \"cuvapracruual 1ndp4uay torerd tac wogeeo induny jome fjlucel nndilditadiz orrit7ce o[ ileceo euntt jmhluoc ottnce cnc tpmer picident caineta4t cncr cnng qut-chakoslecd; yene k- dortleto qulnut; soakdynoed; \"molralcalinox thal you don -judd modit covcnare of tobucco {ntoceuc rt %kmr kccesi [oo hol [0 t panx pd:n pholo on eu_uedc radio, (ee hjon; intctdc? iadchon nan coti1g ol[odacco cemtnuntoc med4i. koun 4non ccnum uc ce lj1l, rutc erookuto qistuni oa 15804oc jour lmobnr eer, [le dutenit \"tatlc rounntnr ccltt evc drmnu dema d d4 adottecn dn ffletcncigintoot m(dlr\\'t guycitne lancd throleh [crial plll: bali don cenuujn7 bt non-njce cccnbaatribucz capalzni cutent cuptpn ls5t tonidcpe amnncr anei eonot heuc jittnule- uafneteaf stor satodnz klcnhon srudt canc_[ men exploymant mdcereentnd fi j1du; e~st eisoi zled4l 4ac leler jctint lenan 1'"
      ]
     },
     "execution_count": 101,
     "metadata": {},
     "output_type": "execute_result"
    }
   ],
   "source": [
    "df_train.iloc[3495]['text']"
   ]
  },
  {
   "cell_type": "code",
   "execution_count": 121,
   "metadata": {},
   "outputs": [],
   "source": [
    "sample = df_train.head()"
   ]
  },
  {
   "cell_type": "code",
   "execution_count": 122,
   "metadata": {},
   "outputs": [
    {
     "name": "stderr",
     "output_type": "stream",
     "text": [
      "C:\\Users\\Wiktor\\AppData\\Local\\Temp\\ipykernel_15556\\2992993266.py:1: SettingWithCopyWarning: \n",
      "A value is trying to be set on a copy of a slice from a DataFrame.\n",
      "Try using .loc[row_indexer,col_indexer] = value instead\n",
      "\n",
      "See the caveats in the documentation: https://pandas.pydata.org/pandas-docs/stable/user_guide/indexing.html#returning-a-view-versus-a-copy\n",
      "  sample['language'] = sample['text'].apply(lambda x: detect(x))\n"
     ]
    }
   ],
   "source": [
    "sample['language'] = sample['text'].apply(lambda x: detect(x))"
   ]
  },
  {
   "cell_type": "code",
   "execution_count": 114,
   "metadata": {},
   "outputs": [],
   "source": [
    "spell1 = Speller(lang=\"pl\", only_replacements=True)\n",
    "spell2 = Speller(lang='en', only_replacements=True)\n",
    "# sample[sample['language'] == 'pl']['text'] = sample[sample['language'] == 'pl']['text'].apply(lambda x: spell(x))"
   ]
  },
  {
   "cell_type": "code",
   "execution_count": 127,
   "metadata": {},
   "outputs": [
    {
     "name": "stderr",
     "output_type": "stream",
     "text": [
      "C:\\Users\\Wiktor\\AppData\\Local\\Temp\\ipykernel_15556\\2576813700.py:1: SettingWithCopyWarning: \n",
      "A value is trying to be set on a copy of a slice from a DataFrame.\n",
      "Try using .loc[row_indexer,col_indexer] = value instead\n",
      "\n",
      "See the caveats in the documentation: https://pandas.pydata.org/pandas-docs/stable/user_guide/indexing.html#returning-a-view-versus-a-copy\n",
      "  sample['text'] = np.where(sample['language'] == 'pl', sample['text'].apply(lambda x: spell1(x)), sample['text'].apply(lambda x: spell2(x)))\n"
     ]
    }
   ],
   "source": [
    "sample['text'] = np.where(sample['language'] == 'pl', sample['text'].apply(lambda x: spell1(x)), sample['text'].apply(lambda x: spell2(x)))"
   ]
  },
  {
   "cell_type": "code",
   "execution_count": 130,
   "metadata": {},
   "outputs": [],
   "source": [
    "from autocorrect import Speller\n",
    "def autocorrect_words(df, text_col: str) -> pd.DataFrame:\n",
    "    languages = set(df['language'])\n",
    "    spell_en = Speller(lang='en', only_replacements=True)\n",
    "    spell_pl = Speller(lang='pl', only_replacements=True)\n",
    "    df_pl = df[df['language'] == 'pl']\n",
    "    df_en = df[df['language'] == 'en']\n",
    "    df_pl['text'] = df_pl['text'].apply(lambda x: spell_pl(x))\n",
    "    df_en['text'] = df_en['text'].apply(lambda x: spell_en(x))\n",
    "    return pd.concat([df_pl, df_en])"
   ]
  },
  {
   "cell_type": "code",
   "execution_count": null,
   "metadata": {},
   "outputs": [],
   "source": [
    "autocorrect_words()"
   ]
  }
 ],
 "metadata": {
  "kernelspec": {
   "display_name": "hacking",
   "language": "python",
   "name": "python3"
  },
  "language_info": {
   "codemirror_mode": {
    "name": "ipython",
    "version": 3
   },
   "file_extension": ".py",
   "mimetype": "text/x-python",
   "name": "python",
   "nbconvert_exporter": "python",
   "pygments_lexer": "ipython3",
   "version": "3.10.10"
  },
  "orig_nbformat": 4
 },
 "nbformat": 4,
 "nbformat_minor": 2
}
