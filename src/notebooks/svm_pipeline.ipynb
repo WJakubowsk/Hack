{
 "cells": [
  {
   "cell_type": "code",
   "execution_count": 14,
   "id": "1c1aa052",
   "metadata": {},
   "outputs": [],
   "source": [
    "from sklearn.feature_extraction.text import TfidfVectorizer\n",
    "from sklearn import model_selection, naive_bayes, svm\n",
    "from sklearn.metrics import accuracy_score\n",
    "from nltk.tokenize import word_tokenize"
   ]
  },
  {
   "cell_type": "code",
   "execution_count": 21,
   "id": "5297f9f0",
   "metadata": {},
   "outputs": [
    {
     "data": {
      "text/html": [
       "<div>\n",
       "<style scoped>\n",
       "    .dataframe tbody tr th:only-of-type {\n",
       "        vertical-align: middle;\n",
       "    }\n",
       "\n",
       "    .dataframe tbody tr th {\n",
       "        vertical-align: top;\n",
       "    }\n",
       "\n",
       "    .dataframe thead th {\n",
       "        text-align: right;\n",
       "    }\n",
       "</style>\n",
       "<table border=\"1\" class=\"dataframe\">\n",
       "  <thead>\n",
       "    <tr style=\"text-align: right;\">\n",
       "      <th></th>\n",
       "      <th>text_col</th>\n",
       "      <th>target</th>\n",
       "    </tr>\n",
       "  </thead>\n",
       "  <tbody>\n",
       "    <tr>\n",
       "      <th>0</th>\n",
       "      <td>To jest przykładowe zdanie po polsku.</td>\n",
       "      <td>1</td>\n",
       "    </tr>\n",
       "    <tr>\n",
       "      <th>1</th>\n",
       "      <td>This is an example sentence in English.</td>\n",
       "      <td>2</td>\n",
       "    </tr>\n",
       "    <tr>\n",
       "      <th>2</th>\n",
       "      <td>Łatwość korzystania z tego narzędzia jest nies...</td>\n",
       "      <td>3</td>\n",
       "    </tr>\n",
       "    <tr>\n",
       "      <th>3</th>\n",
       "      <td>The ease of use of this tool is amazing.</td>\n",
       "      <td>4</td>\n",
       "    </tr>\n",
       "    <tr>\n",
       "      <th>4</th>\n",
       "      <td>Cześć! Jak się masz?</td>\n",
       "      <td>5</td>\n",
       "    </tr>\n",
       "    <tr>\n",
       "      <th>5</th>\n",
       "      <td>Hello! How are you?</td>\n",
       "      <td>6</td>\n",
       "    </tr>\n",
       "  </tbody>\n",
       "</table>\n",
       "</div>"
      ],
      "text/plain": [
       "                                            text_col  target\n",
       "0              To jest przykładowe zdanie po polsku.       1\n",
       "1            This is an example sentence in English.       2\n",
       "2  Łatwość korzystania z tego narzędzia jest nies...       3\n",
       "3           The ease of use of this tool is amazing.       4\n",
       "4                               Cześć! Jak się masz?       5\n",
       "5                                Hello! How are you?       6"
      ]
     },
     "execution_count": 21,
     "metadata": {},
     "output_type": "execute_result"
    }
   ],
   "source": [
    "import pandas as pd\n",
    "data = {\n",
    "    'text_col': [\n",
    "        \"To jest przykładowe zdanie po polsku.\",\n",
    "        \"This is an example sentence in English.\",\n",
    "        \"Łatwość korzystania z tego narzędzia jest niesamowita.\",\n",
    "        \"The ease of use of this tool is amazing.\",\n",
    "        \"Cześć! Jak się masz?\",\n",
    "        \"Hello! How are you?\"\n",
    "    ]\n",
    "}\n",
    "df = pd.DataFrame(data)\n",
    "df['target'] = range(1, 7)\n",
    "df"
   ]
  },
  {
   "cell_type": "code",
   "execution_count": 22,
   "id": "760e780c",
   "metadata": {},
   "outputs": [],
   "source": [
    "X_train = df['text_col']\n",
    "y_train = df['target']"
   ]
  },
  {
   "cell_type": "code",
   "execution_count": 56,
   "id": "24565fd8",
   "metadata": {},
   "outputs": [],
   "source": [
    "X_train_tokens= [str(word_tokenize(entry)) for entry in X_train]"
   ]
  },
  {
   "cell_type": "code",
   "execution_count": 58,
   "id": "3ea69d0e",
   "metadata": {},
   "outputs": [],
   "source": [
    "df['tokens']= (X_train_tokens)"
   ]
  },
  {
   "cell_type": "code",
   "execution_count": 73,
   "id": "fbfcabad",
   "metadata": {},
   "outputs": [
    {
     "data": {
      "text/plain": [
       "0    ['To', 'jest', 'przykładowe', 'zdanie', 'po', ...\n",
       "1    ['This', 'is', 'an', 'example', 'sentence', 'i...\n",
       "2    ['Łatwość', 'korzystania', 'z', 'tego', 'narzę...\n",
       "3    ['The', 'ease', 'of', 'use', 'of', 'this', 'to...\n",
       "4            ['Cześć', '!', 'Jak', 'się', 'masz', '?']\n",
       "5             ['Hello', '!', 'How', 'are', 'you', '?']\n",
       "Name: tokens, dtype: object"
      ]
     },
     "execution_count": 73,
     "metadata": {},
     "output_type": "execute_result"
    }
   ],
   "source": [
    "df['tokens']"
   ]
  },
  {
   "cell_type": "code",
   "execution_count": 59,
   "id": "d2efb129",
   "metadata": {},
   "outputs": [
    {
     "data": {
      "text/html": [
       "<div>\n",
       "<style scoped>\n",
       "    .dataframe tbody tr th:only-of-type {\n",
       "        vertical-align: middle;\n",
       "    }\n",
       "\n",
       "    .dataframe tbody tr th {\n",
       "        vertical-align: top;\n",
       "    }\n",
       "\n",
       "    .dataframe thead th {\n",
       "        text-align: right;\n",
       "    }\n",
       "</style>\n",
       "<table border=\"1\" class=\"dataframe\">\n",
       "  <thead>\n",
       "    <tr style=\"text-align: right;\">\n",
       "      <th></th>\n",
       "      <th>text_col</th>\n",
       "      <th>target</th>\n",
       "      <th>final</th>\n",
       "      <th>token</th>\n",
       "      <th>tokens</th>\n",
       "    </tr>\n",
       "  </thead>\n",
       "  <tbody>\n",
       "    <tr>\n",
       "      <th>0</th>\n",
       "      <td>To jest przykładowe zdanie po polsku.</td>\n",
       "      <td>1</td>\n",
       "      <td>['Hello', '!', 'How', 'are', 'you', '?']</td>\n",
       "      <td>[To, jest, przykładowe, zdanie, po, polsku, .]</td>\n",
       "      <td>['To', 'jest', 'przykładowe', 'zdanie', 'po', ...</td>\n",
       "    </tr>\n",
       "    <tr>\n",
       "      <th>1</th>\n",
       "      <td>This is an example sentence in English.</td>\n",
       "      <td>2</td>\n",
       "      <td>['Hello', '!', 'How', 'are', 'you', '?']</td>\n",
       "      <td>[This, is, an, example, sentence, in, English, .]</td>\n",
       "      <td>['This', 'is', 'an', 'example', 'sentence', 'i...</td>\n",
       "    </tr>\n",
       "    <tr>\n",
       "      <th>2</th>\n",
       "      <td>Łatwość korzystania z tego narzędzia jest nies...</td>\n",
       "      <td>3</td>\n",
       "      <td>['Hello', '!', 'How', 'are', 'you', '?']</td>\n",
       "      <td>[Łatwość, korzystania, z, tego, narzędzia, jes...</td>\n",
       "      <td>['Łatwość', 'korzystania', 'z', 'tego', 'narzę...</td>\n",
       "    </tr>\n",
       "    <tr>\n",
       "      <th>3</th>\n",
       "      <td>The ease of use of this tool is amazing.</td>\n",
       "      <td>4</td>\n",
       "      <td>['Hello', '!', 'How', 'are', 'you', '?']</td>\n",
       "      <td>[The, ease, of, use, of, this, tool, is, amazi...</td>\n",
       "      <td>['The', 'ease', 'of', 'use', 'of', 'this', 'to...</td>\n",
       "    </tr>\n",
       "    <tr>\n",
       "      <th>4</th>\n",
       "      <td>Cześć! Jak się masz?</td>\n",
       "      <td>5</td>\n",
       "      <td>['Hello', '!', 'How', 'are', 'you', '?']</td>\n",
       "      <td>[Cześć, !, Jak, się, masz, ?]</td>\n",
       "      <td>['Cześć', '!', 'Jak', 'się', 'masz', '?']</td>\n",
       "    </tr>\n",
       "    <tr>\n",
       "      <th>5</th>\n",
       "      <td>Hello! How are you?</td>\n",
       "      <td>6</td>\n",
       "      <td>['Hello', '!', 'How', 'are', 'you', '?']</td>\n",
       "      <td>[Hello, !, How, are, you, ?]</td>\n",
       "      <td>['Hello', '!', 'How', 'are', 'you', '?']</td>\n",
       "    </tr>\n",
       "  </tbody>\n",
       "</table>\n",
       "</div>"
      ],
      "text/plain": [
       "                                            text_col  target  \\\n",
       "0              To jest przykładowe zdanie po polsku.       1   \n",
       "1            This is an example sentence in English.       2   \n",
       "2  Łatwość korzystania z tego narzędzia jest nies...       3   \n",
       "3           The ease of use of this tool is amazing.       4   \n",
       "4                               Cześć! Jak się masz?       5   \n",
       "5                                Hello! How are you?       6   \n",
       "\n",
       "                                      final  \\\n",
       "0  ['Hello', '!', 'How', 'are', 'you', '?']   \n",
       "1  ['Hello', '!', 'How', 'are', 'you', '?']   \n",
       "2  ['Hello', '!', 'How', 'are', 'you', '?']   \n",
       "3  ['Hello', '!', 'How', 'are', 'you', '?']   \n",
       "4  ['Hello', '!', 'How', 'are', 'you', '?']   \n",
       "5  ['Hello', '!', 'How', 'are', 'you', '?']   \n",
       "\n",
       "                                               token  \\\n",
       "0     [To, jest, przykładowe, zdanie, po, polsku, .]   \n",
       "1  [This, is, an, example, sentence, in, English, .]   \n",
       "2  [Łatwość, korzystania, z, tego, narzędzia, jes...   \n",
       "3  [The, ease, of, use, of, this, tool, is, amazi...   \n",
       "4                      [Cześć, !, Jak, się, masz, ?]   \n",
       "5                       [Hello, !, How, are, you, ?]   \n",
       "\n",
       "                                              tokens  \n",
       "0  ['To', 'jest', 'przykładowe', 'zdanie', 'po', ...  \n",
       "1  ['This', 'is', 'an', 'example', 'sentence', 'i...  \n",
       "2  ['Łatwość', 'korzystania', 'z', 'tego', 'narzę...  \n",
       "3  ['The', 'ease', 'of', 'use', 'of', 'this', 'to...  \n",
       "4          ['Cześć', '!', 'Jak', 'się', 'masz', '?']  \n",
       "5           ['Hello', '!', 'How', 'are', 'you', '?']  "
      ]
     },
     "execution_count": 59,
     "metadata": {},
     "output_type": "execute_result"
    }
   ],
   "source": [
    "df"
   ]
  },
  {
   "cell_type": "code",
   "execution_count": 60,
   "id": "defe0e00",
   "metadata": {},
   "outputs": [],
   "source": [
    "Tfidf_vect = TfidfVectorizer(max_features=5000)\n",
    "Tfidf_vect.fit(X_train_tokens)\n",
    "Train_X_Tfidf = Tfidf_vect.transform(X_train)\n"
   ]
  },
  {
   "cell_type": "code",
   "execution_count": 45,
   "id": "69e4438f",
   "metadata": {},
   "outputs": [
    {
     "data": {
      "text/plain": [
       "<6x4 sparse matrix of type '<class 'numpy.float64'>'\n",
       "\twith 4 stored elements in Compressed Sparse Row format>"
      ]
     },
     "execution_count": 45,
     "metadata": {},
     "output_type": "execute_result"
    }
   ],
   "source": [
    "Train_X_Tfidf"
   ]
  },
  {
   "cell_type": "code",
   "execution_count": 62,
   "id": "ee26d151",
   "metadata": {},
   "outputs": [
    {
     "name": "stdout",
     "output_type": "stream",
     "text": [
      "{'to': 26, 'jest': 12, 'przykładowe': 20, 'zdanie': 30, 'po': 18, 'polsku': 19, 'this': 25, 'is': 10, 'an': 1, 'example': 6, 'sentence': 21, 'in': 9, 'english': 5, 'łatwość': 31, 'korzystania': 13, 'tego': 23, 'narzędzia': 15, 'niesamowita': 16, 'the': 24, 'ease': 4, 'of': 17, 'use': 28, 'tool': 27, 'amazing': 0, 'cześć': 3, 'jak': 11, 'się': 22, 'masz': 14, 'hello': 7, 'how': 8, 'are': 2, 'you': 29}\n"
     ]
    }
   ],
   "source": [
    "print(Tfidf_vect.vocabulary_)"
   ]
  },
  {
   "cell_type": "code",
   "execution_count": 63,
   "id": "19fce2ef",
   "metadata": {},
   "outputs": [
    {
     "name": "stdout",
     "output_type": "stream",
     "text": [
      "  (0, 30)\t0.41987080495717866\n",
      "  (0, 26)\t0.41987080495717866\n",
      "  (0, 20)\t0.41987080495717866\n",
      "  (0, 19)\t0.41987080495717866\n",
      "  (0, 18)\t0.41987080495717866\n",
      "  (0, 12)\t0.3443000664000145\n",
      "  (1, 25)\t0.32554486881123057\n",
      "  (1, 21)\t0.39699901178248725\n",
      "  (1, 10)\t0.32554486881123057\n",
      "  (1, 9)\t0.39699901178248725\n",
      "  (1, 6)\t0.39699901178248725\n",
      "  (1, 5)\t0.39699901178248725\n",
      "  (1, 1)\t0.39699901178248725\n",
      "  (2, 31)\t0.41987080495717866\n",
      "  (2, 23)\t0.41987080495717866\n",
      "  (2, 16)\t0.41987080495717866\n",
      "  (2, 15)\t0.41987080495717866\n",
      "  (2, 13)\t0.41987080495717866\n",
      "  (2, 12)\t0.3443000664000145\n",
      "  (3, 28)\t0.3109123445439382\n",
      "  (3, 27)\t0.3109123445439382\n",
      "  (3, 25)\t0.25495257018877393\n",
      "  (3, 24)\t0.3109123445439382\n",
      "  (3, 17)\t0.6218246890878764\n",
      "  (3, 10)\t0.25495257018877393\n",
      "  (3, 4)\t0.3109123445439382\n",
      "  (3, 0)\t0.3109123445439382\n",
      "  (4, 22)\t0.5\n",
      "  (4, 14)\t0.5\n",
      "  (4, 11)\t0.5\n",
      "  (4, 3)\t0.5\n",
      "  (5, 29)\t0.5\n",
      "  (5, 8)\t0.5\n",
      "  (5, 7)\t0.5\n",
      "  (5, 2)\t0.5\n"
     ]
    }
   ],
   "source": [
    "print(Train_X_Tfidf)"
   ]
  },
  {
   "cell_type": "code",
   "execution_count": 64,
   "id": "6e0e22ce",
   "metadata": {},
   "outputs": [
    {
     "data": {
      "text/html": [
       "<style>#sk-container-id-3 {color: black;background-color: white;}#sk-container-id-3 pre{padding: 0;}#sk-container-id-3 div.sk-toggleable {background-color: white;}#sk-container-id-3 label.sk-toggleable__label {cursor: pointer;display: block;width: 100%;margin-bottom: 0;padding: 0.3em;box-sizing: border-box;text-align: center;}#sk-container-id-3 label.sk-toggleable__label-arrow:before {content: \"▸\";float: left;margin-right: 0.25em;color: #696969;}#sk-container-id-3 label.sk-toggleable__label-arrow:hover:before {color: black;}#sk-container-id-3 div.sk-estimator:hover label.sk-toggleable__label-arrow:before {color: black;}#sk-container-id-3 div.sk-toggleable__content {max-height: 0;max-width: 0;overflow: hidden;text-align: left;background-color: #f0f8ff;}#sk-container-id-3 div.sk-toggleable__content pre {margin: 0.2em;color: black;border-radius: 0.25em;background-color: #f0f8ff;}#sk-container-id-3 input.sk-toggleable__control:checked~div.sk-toggleable__content {max-height: 200px;max-width: 100%;overflow: auto;}#sk-container-id-3 input.sk-toggleable__control:checked~label.sk-toggleable__label-arrow:before {content: \"▾\";}#sk-container-id-3 div.sk-estimator input.sk-toggleable__control:checked~label.sk-toggleable__label {background-color: #d4ebff;}#sk-container-id-3 div.sk-label input.sk-toggleable__control:checked~label.sk-toggleable__label {background-color: #d4ebff;}#sk-container-id-3 input.sk-hidden--visually {border: 0;clip: rect(1px 1px 1px 1px);clip: rect(1px, 1px, 1px, 1px);height: 1px;margin: -1px;overflow: hidden;padding: 0;position: absolute;width: 1px;}#sk-container-id-3 div.sk-estimator {font-family: monospace;background-color: #f0f8ff;border: 1px dotted black;border-radius: 0.25em;box-sizing: border-box;margin-bottom: 0.5em;}#sk-container-id-3 div.sk-estimator:hover {background-color: #d4ebff;}#sk-container-id-3 div.sk-parallel-item::after {content: \"\";width: 100%;border-bottom: 1px solid gray;flex-grow: 1;}#sk-container-id-3 div.sk-label:hover label.sk-toggleable__label {background-color: #d4ebff;}#sk-container-id-3 div.sk-serial::before {content: \"\";position: absolute;border-left: 1px solid gray;box-sizing: border-box;top: 0;bottom: 0;left: 50%;z-index: 0;}#sk-container-id-3 div.sk-serial {display: flex;flex-direction: column;align-items: center;background-color: white;padding-right: 0.2em;padding-left: 0.2em;position: relative;}#sk-container-id-3 div.sk-item {position: relative;z-index: 1;}#sk-container-id-3 div.sk-parallel {display: flex;align-items: stretch;justify-content: center;background-color: white;position: relative;}#sk-container-id-3 div.sk-item::before, #sk-container-id-3 div.sk-parallel-item::before {content: \"\";position: absolute;border-left: 1px solid gray;box-sizing: border-box;top: 0;bottom: 0;left: 50%;z-index: -1;}#sk-container-id-3 div.sk-parallel-item {display: flex;flex-direction: column;z-index: 1;position: relative;background-color: white;}#sk-container-id-3 div.sk-parallel-item:first-child::after {align-self: flex-end;width: 50%;}#sk-container-id-3 div.sk-parallel-item:last-child::after {align-self: flex-start;width: 50%;}#sk-container-id-3 div.sk-parallel-item:only-child::after {width: 0;}#sk-container-id-3 div.sk-dashed-wrapped {border: 1px dashed gray;margin: 0 0.4em 0.5em 0.4em;box-sizing: border-box;padding-bottom: 0.4em;background-color: white;}#sk-container-id-3 div.sk-label label {font-family: monospace;font-weight: bold;display: inline-block;line-height: 1.2em;}#sk-container-id-3 div.sk-label-container {text-align: center;}#sk-container-id-3 div.sk-container {/* jupyter's `normalize.less` sets `[hidden] { display: none; }` but bootstrap.min.css set `[hidden] { display: none !important; }` so we also need the `!important` here to be able to override the default hidden behavior on the sphinx rendered scikit-learn.org. See: https://github.com/scikit-learn/scikit-learn/issues/21755 */display: inline-block !important;position: relative;}#sk-container-id-3 div.sk-text-repr-fallback {display: none;}</style><div id=\"sk-container-id-3\" class=\"sk-top-container\"><div class=\"sk-text-repr-fallback\"><pre>MultinomialNB()</pre><b>In a Jupyter environment, please rerun this cell to show the HTML representation or trust the notebook. <br />On GitHub, the HTML representation is unable to render, please try loading this page with nbviewer.org.</b></div><div class=\"sk-container\" hidden><div class=\"sk-item\"><div class=\"sk-estimator sk-toggleable\"><input class=\"sk-toggleable__control sk-hidden--visually\" id=\"sk-estimator-id-3\" type=\"checkbox\" checked><label for=\"sk-estimator-id-3\" class=\"sk-toggleable__label sk-toggleable__label-arrow\">MultinomialNB</label><div class=\"sk-toggleable__content\"><pre>MultinomialNB()</pre></div></div></div></div></div>"
      ],
      "text/plain": [
       "MultinomialNB()"
      ]
     },
     "execution_count": 64,
     "metadata": {},
     "output_type": "execute_result"
    }
   ],
   "source": [
    "Naive = naive_bayes.MultinomialNB()\n",
    "Naive.fit(Train_X_Tfidf,y_train)"
   ]
  },
  {
   "cell_type": "code",
   "execution_count": 76,
   "id": "36857b70",
   "metadata": {},
   "outputs": [],
   "source": [
    "from sklearn.feature_extraction.text import TfidfVectorizer\n",
    "from sklearn import model_selection, naive_bayes, svm\n",
    "from sklearn.metrics import accuracy_score\n",
    "from nltk.tokenize import word_tokenize"
   ]
  },
  {
   "cell_type": "code",
   "execution_count": 77,
   "id": "bdf8517d",
   "metadata": {},
   "outputs": [],
   "source": [
    "def training_pipeline(df_train, df_test):\n",
    "    X_train = df_train['text_col']\n",
    "    y_train = df_test['target']\n",
    "    X_test = df_train['text_col']\n",
    "    y_test = df_test['target']\n",
    "    X_train_tokens= [str(word_tokenize(entry)) for entry in X_train]\n",
    "    Tfidf_vect = TfidfVectorizer(max_features=5000)\n",
    "    Tfidf_vect.fit(X_train_tokens)\n",
    "    Train_X_Tfidf = Tfidf_vect.transform(X_train)\n",
    "    Test_X_Tfidf = Tfidf_vect.transform(Test_X)\n",
    "    \n",
    "    Naive = naive_bayes.MultinomialNB()\n",
    "    Naive.fit(Train_X_Tfidf, y_train)\n",
    "    predictions_NB = Naive.predict(Test_X_Tfidf)\n",
    "    print(\"Naive Bayes Accuracy Score -> \",accuracy_score(predictions_NB, Test_Y)*100)\n",
    "    return predictions_NB"
   ]
  },
  {
   "cell_type": "code",
   "execution_count": null,
   "id": "ec849083",
   "metadata": {},
   "outputs": [],
   "source": []
  },
  {
   "cell_type": "code",
   "execution_count": 75,
   "id": "ad9c45bc",
   "metadata": {},
   "outputs": [
    {
     "data": {
      "text/html": [
       "<style>#sk-container-id-5 {color: black;background-color: white;}#sk-container-id-5 pre{padding: 0;}#sk-container-id-5 div.sk-toggleable {background-color: white;}#sk-container-id-5 label.sk-toggleable__label {cursor: pointer;display: block;width: 100%;margin-bottom: 0;padding: 0.3em;box-sizing: border-box;text-align: center;}#sk-container-id-5 label.sk-toggleable__label-arrow:before {content: \"▸\";float: left;margin-right: 0.25em;color: #696969;}#sk-container-id-5 label.sk-toggleable__label-arrow:hover:before {color: black;}#sk-container-id-5 div.sk-estimator:hover label.sk-toggleable__label-arrow:before {color: black;}#sk-container-id-5 div.sk-toggleable__content {max-height: 0;max-width: 0;overflow: hidden;text-align: left;background-color: #f0f8ff;}#sk-container-id-5 div.sk-toggleable__content pre {margin: 0.2em;color: black;border-radius: 0.25em;background-color: #f0f8ff;}#sk-container-id-5 input.sk-toggleable__control:checked~div.sk-toggleable__content {max-height: 200px;max-width: 100%;overflow: auto;}#sk-container-id-5 input.sk-toggleable__control:checked~label.sk-toggleable__label-arrow:before {content: \"▾\";}#sk-container-id-5 div.sk-estimator input.sk-toggleable__control:checked~label.sk-toggleable__label {background-color: #d4ebff;}#sk-container-id-5 div.sk-label input.sk-toggleable__control:checked~label.sk-toggleable__label {background-color: #d4ebff;}#sk-container-id-5 input.sk-hidden--visually {border: 0;clip: rect(1px 1px 1px 1px);clip: rect(1px, 1px, 1px, 1px);height: 1px;margin: -1px;overflow: hidden;padding: 0;position: absolute;width: 1px;}#sk-container-id-5 div.sk-estimator {font-family: monospace;background-color: #f0f8ff;border: 1px dotted black;border-radius: 0.25em;box-sizing: border-box;margin-bottom: 0.5em;}#sk-container-id-5 div.sk-estimator:hover {background-color: #d4ebff;}#sk-container-id-5 div.sk-parallel-item::after {content: \"\";width: 100%;border-bottom: 1px solid gray;flex-grow: 1;}#sk-container-id-5 div.sk-label:hover label.sk-toggleable__label {background-color: #d4ebff;}#sk-container-id-5 div.sk-serial::before {content: \"\";position: absolute;border-left: 1px solid gray;box-sizing: border-box;top: 0;bottom: 0;left: 50%;z-index: 0;}#sk-container-id-5 div.sk-serial {display: flex;flex-direction: column;align-items: center;background-color: white;padding-right: 0.2em;padding-left: 0.2em;position: relative;}#sk-container-id-5 div.sk-item {position: relative;z-index: 1;}#sk-container-id-5 div.sk-parallel {display: flex;align-items: stretch;justify-content: center;background-color: white;position: relative;}#sk-container-id-5 div.sk-item::before, #sk-container-id-5 div.sk-parallel-item::before {content: \"\";position: absolute;border-left: 1px solid gray;box-sizing: border-box;top: 0;bottom: 0;left: 50%;z-index: -1;}#sk-container-id-5 div.sk-parallel-item {display: flex;flex-direction: column;z-index: 1;position: relative;background-color: white;}#sk-container-id-5 div.sk-parallel-item:first-child::after {align-self: flex-end;width: 50%;}#sk-container-id-5 div.sk-parallel-item:last-child::after {align-self: flex-start;width: 50%;}#sk-container-id-5 div.sk-parallel-item:only-child::after {width: 0;}#sk-container-id-5 div.sk-dashed-wrapped {border: 1px dashed gray;margin: 0 0.4em 0.5em 0.4em;box-sizing: border-box;padding-bottom: 0.4em;background-color: white;}#sk-container-id-5 div.sk-label label {font-family: monospace;font-weight: bold;display: inline-block;line-height: 1.2em;}#sk-container-id-5 div.sk-label-container {text-align: center;}#sk-container-id-5 div.sk-container {/* jupyter's `normalize.less` sets `[hidden] { display: none; }` but bootstrap.min.css set `[hidden] { display: none !important; }` so we also need the `!important` here to be able to override the default hidden behavior on the sphinx rendered scikit-learn.org. See: https://github.com/scikit-learn/scikit-learn/issues/21755 */display: inline-block !important;position: relative;}#sk-container-id-5 div.sk-text-repr-fallback {display: none;}</style><div id=\"sk-container-id-5\" class=\"sk-top-container\"><div class=\"sk-text-repr-fallback\"><pre>MultinomialNB()</pre><b>In a Jupyter environment, please rerun this cell to show the HTML representation or trust the notebook. <br />On GitHub, the HTML representation is unable to render, please try loading this page with nbviewer.org.</b></div><div class=\"sk-container\" hidden><div class=\"sk-item\"><div class=\"sk-estimator sk-toggleable\"><input class=\"sk-toggleable__control sk-hidden--visually\" id=\"sk-estimator-id-5\" type=\"checkbox\" checked><label for=\"sk-estimator-id-5\" class=\"sk-toggleable__label sk-toggleable__label-arrow\">MultinomialNB</label><div class=\"sk-toggleable__content\"><pre>MultinomialNB()</pre></div></div></div></div></div>"
      ],
      "text/plain": [
       "MultinomialNB()"
      ]
     },
     "execution_count": 75,
     "metadata": {},
     "output_type": "execute_result"
    }
   ],
   "source": [
    "training_pipeline(df)"
   ]
  }
 ],
 "metadata": {
  "kernelspec": {
   "display_name": "Python 3 (ipykernel)",
   "language": "python",
   "name": "python3"
  },
  "language_info": {
   "codemirror_mode": {
    "name": "ipython",
    "version": 3
   },
   "file_extension": ".py",
   "mimetype": "text/x-python",
   "name": "python",
   "nbconvert_exporter": "python",
   "pygments_lexer": "ipython3",
   "version": "3.9.7"
  }
 },
 "nbformat": 4,
 "nbformat_minor": 5
}
